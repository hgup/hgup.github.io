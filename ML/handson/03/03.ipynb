{
  "cells": [
    {
      "cell_type": "markdown",
      "metadata": {},
      "source": [
        "# Classification"
      ]
    },
    {
      "cell_type": "code",
      "execution_count": 1,
      "metadata": {
        "id": "jhhMalDMrQPh",
        "outputId": "57a0cf25-cc5e-4bf8-d085-730d21d3de6d"
      },
      "outputs": [
        {
          "data": {
            "text/plain": [
              "dict_keys(['data', 'target', 'frame', 'categories', 'feature_names', 'target_names', 'DESCR', 'details', 'url'])"
            ]
          },
          "execution_count": 1,
          "metadata": {},
          "output_type": "execute_result"
        }
      ],
      "source": [
        "from sklearn.datasets import fetch_openml\n",
        "\n",
        "mnist = fetch_openml('mnist_784', version=1, cache=True)\n",
        "mnist.keys()"
      ]
    },
    {
      "cell_type": "code",
      "execution_count": 2,
      "metadata": {
        "id": "MFCrnPJqrQPj"
      },
      "outputs": [],
      "source": [
        "X = mnist.data\n",
        "y = mnist.target"
      ]
    },
    {
      "cell_type": "code",
      "execution_count": 3,
      "metadata": {
        "id": "gXdCmhcerQPl",
        "outputId": "57bddbb7-7f63-4a5a-b341-18339d8d9561"
      },
      "outputs": [
        {
          "data": {
            "text/plain": [
              "str"
            ]
          },
          "execution_count": 3,
          "metadata": {},
          "output_type": "execute_result"
        }
      ],
      "source": [
        "type(mnist.target[0])"
      ]
    },
    {
      "cell_type": "code",
      "execution_count": 4,
      "metadata": {
        "id": "aqvQJYubrQPm",
        "outputId": "6cb9a664-bcf4-4d7e-80df-cdf4ebe24fed"
      },
      "outputs": [
        {
          "data": {
            "text/plain": [
              "(70000, 784)"
            ]
          },
          "execution_count": 4,
          "metadata": {},
          "output_type": "execute_result"
        }
      ],
      "source": [
        "X.shape # 28 x 28 px = 784"
      ]
    },
    {
      "cell_type": "code",
      "execution_count": 5,
      "metadata": {
        "id": "MMkAHNMvrQPm",
        "outputId": "c597d15c-4d10-412c-e7b0-2a3656de39c3"
      },
      "outputs": [
        {
          "data": {
            "application/vnd.microsoft.datawrangler.viewer.v0+json": {
              "columns": [
                {
                  "name": "index",
                  "rawType": "int64",
                  "type": "integer"
                },
                {
                  "name": "pixel1",
                  "rawType": "float64",
                  "type": "float"
                },
                {
                  "name": "pixel2",
                  "rawType": "float64",
                  "type": "float"
                },
                {
                  "name": "pixel3",
                  "rawType": "float64",
                  "type": "float"
                },
                {
                  "name": "pixel4",
                  "rawType": "float64",
                  "type": "float"
                },
                {
                  "name": "pixel5",
                  "rawType": "float64",
                  "type": "float"
                },
                {
                  "name": "pixel6",
                  "rawType": "float64",
                  "type": "float"
                },
                {
                  "name": "pixel7",
                  "rawType": "float64",
                  "type": "float"
                },
                {
                  "name": "pixel8",
                  "rawType": "float64",
                  "type": "float"
                },
                {
                  "name": "pixel9",
                  "rawType": "float64",
                  "type": "float"
                },
                {
                  "name": "pixel10",
                  "rawType": "float64",
                  "type": "float"
                },
                {
                  "name": "pixel11",
                  "rawType": "float64",
                  "type": "float"
                },
                {
                  "name": "pixel12",
                  "rawType": "float64",
                  "type": "float"
                },
                {
                  "name": "pixel13",
                  "rawType": "float64",
                  "type": "float"
                },
                {
                  "name": "pixel14",
                  "rawType": "float64",
                  "type": "float"
                },
                {
                  "name": "pixel15",
                  "rawType": "float64",
                  "type": "float"
                },
                {
                  "name": "pixel16",
                  "rawType": "float64",
                  "type": "float"
                },
                {
                  "name": "pixel17",
                  "rawType": "float64",
                  "type": "float"
                },
                {
                  "name": "pixel18",
                  "rawType": "float64",
                  "type": "float"
                },
                {
                  "name": "pixel19",
                  "rawType": "float64",
                  "type": "float"
                },
                {
                  "name": "pixel20",
                  "rawType": "float64",
                  "type": "float"
                },
                {
                  "name": "pixel21",
                  "rawType": "float64",
                  "type": "float"
                },
                {
                  "name": "pixel22",
                  "rawType": "float64",
                  "type": "float"
                },
                {
                  "name": "pixel23",
                  "rawType": "float64",
                  "type": "float"
                },
                {
                  "name": "pixel24",
                  "rawType": "float64",
                  "type": "float"
                },
                {
                  "name": "pixel25",
                  "rawType": "float64",
                  "type": "float"
                },
                {
                  "name": "pixel26",
                  "rawType": "float64",
                  "type": "float"
                },
                {
                  "name": "pixel27",
                  "rawType": "float64",
                  "type": "float"
                },
                {
                  "name": "pixel28",
                  "rawType": "float64",
                  "type": "float"
                },
                {
                  "name": "pixel29",
                  "rawType": "float64",
                  "type": "float"
                },
                {
                  "name": "pixel30",
                  "rawType": "float64",
                  "type": "float"
                },
                {
                  "name": "pixel31",
                  "rawType": "float64",
                  "type": "float"
                },
                {
                  "name": "pixel32",
                  "rawType": "float64",
                  "type": "float"
                },
                {
                  "name": "pixel33",
                  "rawType": "float64",
                  "type": "float"
                },
                {
                  "name": "pixel34",
                  "rawType": "float64",
                  "type": "float"
                },
                {
                  "name": "pixel35",
                  "rawType": "float64",
                  "type": "float"
                },
                {
                  "name": "pixel36",
                  "rawType": "float64",
                  "type": "float"
                },
                {
                  "name": "pixel37",
                  "rawType": "float64",
                  "type": "float"
                },
                {
                  "name": "pixel38",
                  "rawType": "float64",
                  "type": "float"
                },
                {
                  "name": "pixel39",
                  "rawType": "float64",
                  "type": "float"
                },
                {
                  "name": "pixel40",
                  "rawType": "float64",
                  "type": "float"
                },
                {
                  "name": "pixel41",
                  "rawType": "float64",
                  "type": "float"
                },
                {
                  "name": "pixel42",
                  "rawType": "float64",
                  "type": "float"
                },
                {
                  "name": "pixel43",
                  "rawType": "float64",
                  "type": "float"
                },
                {
                  "name": "pixel44",
                  "rawType": "float64",
                  "type": "float"
                },
                {
                  "name": "pixel45",
                  "rawType": "float64",
                  "type": "float"
                },
                {
                  "name": "pixel46",
                  "rawType": "float64",
                  "type": "float"
                },
                {
                  "name": "pixel47",
                  "rawType": "float64",
                  "type": "float"
                },
                {
                  "name": "pixel48",
                  "rawType": "float64",
                  "type": "float"
                },
                {
                  "name": "pixel49",
                  "rawType": "float64",
                  "type": "float"
                },
                {
                  "name": "pixel50",
                  "rawType": "float64",
                  "type": "float"
                },
                {
                  "name": "pixel51",
                  "rawType": "float64",
                  "type": "float"
                },
                {
                  "name": "pixel52",
                  "rawType": "float64",
                  "type": "float"
                },
                {
                  "name": "pixel53",
                  "rawType": "float64",
                  "type": "float"
                },
                {
                  "name": "pixel54",
                  "rawType": "float64",
                  "type": "float"
                },
                {
                  "name": "pixel55",
                  "rawType": "float64",
                  "type": "float"
                },
                {
                  "name": "pixel56",
                  "rawType": "float64",
                  "type": "float"
                },
                {
                  "name": "pixel57",
                  "rawType": "float64",
                  "type": "float"
                },
                {
                  "name": "pixel58",
                  "rawType": "float64",
                  "type": "float"
                },
                {
                  "name": "pixel59",
                  "rawType": "float64",
                  "type": "float"
                },
                {
                  "name": "pixel60",
                  "rawType": "float64",
                  "type": "float"
                },
                {
                  "name": "pixel61",
                  "rawType": "float64",
                  "type": "float"
                },
                {
                  "name": "pixel62",
                  "rawType": "float64",
                  "type": "float"
                },
                {
                  "name": "pixel63",
                  "rawType": "float64",
                  "type": "float"
                },
                {
                  "name": "pixel64",
                  "rawType": "float64",
                  "type": "float"
                },
                {
                  "name": "pixel65",
                  "rawType": "float64",
                  "type": "float"
                },
                {
                  "name": "pixel66",
                  "rawType": "float64",
                  "type": "float"
                },
                {
                  "name": "pixel67",
                  "rawType": "float64",
                  "type": "float"
                },
                {
                  "name": "pixel68",
                  "rawType": "float64",
                  "type": "float"
                },
                {
                  "name": "pixel69",
                  "rawType": "float64",
                  "type": "float"
                },
                {
                  "name": "pixel70",
                  "rawType": "float64",
                  "type": "float"
                },
                {
                  "name": "pixel71",
                  "rawType": "float64",
                  "type": "float"
                },
                {
                  "name": "pixel72",
                  "rawType": "float64",
                  "type": "float"
                },
                {
                  "name": "pixel73",
                  "rawType": "float64",
                  "type": "float"
                },
                {
                  "name": "pixel74",
                  "rawType": "float64",
                  "type": "float"
                },
                {
                  "name": "pixel75",
                  "rawType": "float64",
                  "type": "float"
                },
                {
                  "name": "pixel76",
                  "rawType": "float64",
                  "type": "float"
                },
                {
                  "name": "pixel77",
                  "rawType": "float64",
                  "type": "float"
                },
                {
                  "name": "pixel78",
                  "rawType": "float64",
                  "type": "float"
                },
                {
                  "name": "pixel79",
                  "rawType": "float64",
                  "type": "float"
                },
                {
                  "name": "pixel80",
                  "rawType": "float64",
                  "type": "float"
                },
                {
                  "name": "pixel81",
                  "rawType": "float64",
                  "type": "float"
                },
                {
                  "name": "pixel82",
                  "rawType": "float64",
                  "type": "float"
                },
                {
                  "name": "pixel83",
                  "rawType": "float64",
                  "type": "float"
                },
                {
                  "name": "pixel84",
                  "rawType": "float64",
                  "type": "float"
                },
                {
                  "name": "pixel85",
                  "rawType": "float64",
                  "type": "float"
                },
                {
                  "name": "pixel86",
                  "rawType": "float64",
                  "type": "float"
                },
                {
                  "name": "pixel87",
                  "rawType": "float64",
                  "type": "float"
                },
                {
                  "name": "pixel88",
                  "rawType": "float64",
                  "type": "float"
                },
                {
                  "name": "pixel89",
                  "rawType": "float64",
                  "type": "float"
                },
                {
                  "name": "pixel90",
                  "rawType": "float64",
                  "type": "float"
                },
                {
                  "name": "pixel91",
                  "rawType": "float64",
                  "type": "float"
                },
                {
                  "name": "pixel92",
                  "rawType": "float64",
                  "type": "float"
                },
                {
                  "name": "pixel93",
                  "rawType": "float64",
                  "type": "float"
                },
                {
                  "name": "pixel94",
                  "rawType": "float64",
                  "type": "float"
                },
                {
                  "name": "pixel95",
                  "rawType": "float64",
                  "type": "float"
                },
                {
                  "name": "pixel96",
                  "rawType": "float64",
                  "type": "float"
                },
                {
                  "name": "pixel97",
                  "rawType": "float64",
                  "type": "float"
                },
                {
                  "name": "pixel98",
                  "rawType": "float64",
                  "type": "float"
                },
                {
                  "name": "pixel99",
                  "rawType": "float64",
                  "type": "float"
                },
                {
                  "name": "pixel100",
                  "rawType": "float64",
                  "type": "float"
                },
                {
                  "name": "pixel101",
                  "rawType": "float64",
                  "type": "float"
                },
                {
                  "name": "pixel102",
                  "rawType": "float64",
                  "type": "float"
                },
                {
                  "name": "pixel103",
                  "rawType": "float64",
                  "type": "float"
                },
                {
                  "name": "pixel104",
                  "rawType": "float64",
                  "type": "float"
                },
                {
                  "name": "pixel105",
                  "rawType": "float64",
                  "type": "float"
                },
                {
                  "name": "pixel106",
                  "rawType": "float64",
                  "type": "float"
                },
                {
                  "name": "pixel107",
                  "rawType": "float64",
                  "type": "float"
                },
                {
                  "name": "pixel108",
                  "rawType": "float64",
                  "type": "float"
                },
                {
                  "name": "pixel109",
                  "rawType": "float64",
                  "type": "float"
                },
                {
                  "name": "pixel110",
                  "rawType": "float64",
                  "type": "float"
                },
                {
                  "name": "pixel111",
                  "rawType": "float64",
                  "type": "float"
                },
                {
                  "name": "pixel112",
                  "rawType": "float64",
                  "type": "float"
                },
                {
                  "name": "pixel113",
                  "rawType": "float64",
                  "type": "float"
                },
                {
                  "name": "pixel114",
                  "rawType": "float64",
                  "type": "float"
                },
                {
                  "name": "pixel115",
                  "rawType": "float64",
                  "type": "float"
                },
                {
                  "name": "pixel116",
                  "rawType": "float64",
                  "type": "float"
                },
                {
                  "name": "pixel117",
                  "rawType": "float64",
                  "type": "float"
                },
                {
                  "name": "pixel118",
                  "rawType": "float64",
                  "type": "float"
                },
                {
                  "name": "pixel119",
                  "rawType": "float64",
                  "type": "float"
                },
                {
                  "name": "pixel120",
                  "rawType": "float64",
                  "type": "float"
                },
                {
                  "name": "pixel121",
                  "rawType": "float64",
                  "type": "float"
                },
                {
                  "name": "pixel122",
                  "rawType": "float64",
                  "type": "float"
                },
                {
                  "name": "pixel123",
                  "rawType": "float64",
                  "type": "float"
                },
                {
                  "name": "pixel124",
                  "rawType": "float64",
                  "type": "float"
                },
                {
                  "name": "pixel125",
                  "rawType": "float64",
                  "type": "float"
                },
                {
                  "name": "pixel126",
                  "rawType": "float64",
                  "type": "float"
                },
                {
                  "name": "pixel127",
                  "rawType": "float64",
                  "type": "float"
                },
                {
                  "name": "pixel128",
                  "rawType": "float64",
                  "type": "float"
                },
                {
                  "name": "pixel129",
                  "rawType": "float64",
                  "type": "float"
                },
                {
                  "name": "pixel130",
                  "rawType": "float64",
                  "type": "float"
                },
                {
                  "name": "pixel131",
                  "rawType": "float64",
                  "type": "float"
                },
                {
                  "name": "pixel132",
                  "rawType": "float64",
                  "type": "float"
                },
                {
                  "name": "pixel133",
                  "rawType": "float64",
                  "type": "float"
                },
                {
                  "name": "pixel134",
                  "rawType": "float64",
                  "type": "float"
                },
                {
                  "name": "pixel135",
                  "rawType": "float64",
                  "type": "float"
                },
                {
                  "name": "pixel136",
                  "rawType": "float64",
                  "type": "float"
                },
                {
                  "name": "pixel137",
                  "rawType": "float64",
                  "type": "float"
                },
                {
                  "name": "pixel138",
                  "rawType": "float64",
                  "type": "float"
                },
                {
                  "name": "pixel139",
                  "rawType": "float64",
                  "type": "float"
                },
                {
                  "name": "pixel140",
                  "rawType": "float64",
                  "type": "float"
                },
                {
                  "name": "pixel141",
                  "rawType": "float64",
                  "type": "float"
                },
                {
                  "name": "pixel142",
                  "rawType": "float64",
                  "type": "float"
                },
                {
                  "name": "pixel143",
                  "rawType": "float64",
                  "type": "float"
                },
                {
                  "name": "pixel144",
                  "rawType": "float64",
                  "type": "float"
                },
                {
                  "name": "pixel145",
                  "rawType": "float64",
                  "type": "float"
                },
                {
                  "name": "pixel146",
                  "rawType": "float64",
                  "type": "float"
                },
                {
                  "name": "pixel147",
                  "rawType": "float64",
                  "type": "float"
                },
                {
                  "name": "pixel148",
                  "rawType": "float64",
                  "type": "float"
                },
                {
                  "name": "pixel149",
                  "rawType": "float64",
                  "type": "float"
                },
                {
                  "name": "pixel150",
                  "rawType": "float64",
                  "type": "float"
                },
                {
                  "name": "pixel151",
                  "rawType": "float64",
                  "type": "float"
                },
                {
                  "name": "pixel152",
                  "rawType": "float64",
                  "type": "float"
                },
                {
                  "name": "pixel153",
                  "rawType": "float64",
                  "type": "float"
                },
                {
                  "name": "pixel154",
                  "rawType": "float64",
                  "type": "float"
                },
                {
                  "name": "pixel155",
                  "rawType": "float64",
                  "type": "float"
                },
                {
                  "name": "pixel156",
                  "rawType": "float64",
                  "type": "float"
                },
                {
                  "name": "pixel157",
                  "rawType": "float64",
                  "type": "float"
                },
                {
                  "name": "pixel158",
                  "rawType": "float64",
                  "type": "float"
                },
                {
                  "name": "pixel159",
                  "rawType": "float64",
                  "type": "float"
                },
                {
                  "name": "pixel160",
                  "rawType": "float64",
                  "type": "float"
                },
                {
                  "name": "pixel161",
                  "rawType": "float64",
                  "type": "float"
                },
                {
                  "name": "pixel162",
                  "rawType": "float64",
                  "type": "float"
                },
                {
                  "name": "pixel163",
                  "rawType": "float64",
                  "type": "float"
                },
                {
                  "name": "pixel164",
                  "rawType": "float64",
                  "type": "float"
                },
                {
                  "name": "pixel165",
                  "rawType": "float64",
                  "type": "float"
                },
                {
                  "name": "pixel166",
                  "rawType": "float64",
                  "type": "float"
                },
                {
                  "name": "pixel167",
                  "rawType": "float64",
                  "type": "float"
                },
                {
                  "name": "pixel168",
                  "rawType": "float64",
                  "type": "float"
                },
                {
                  "name": "pixel169",
                  "rawType": "float64",
                  "type": "float"
                },
                {
                  "name": "pixel170",
                  "rawType": "float64",
                  "type": "float"
                },
                {
                  "name": "pixel171",
                  "rawType": "float64",
                  "type": "float"
                },
                {
                  "name": "pixel172",
                  "rawType": "float64",
                  "type": "float"
                },
                {
                  "name": "pixel173",
                  "rawType": "float64",
                  "type": "float"
                },
                {
                  "name": "pixel174",
                  "rawType": "float64",
                  "type": "float"
                },
                {
                  "name": "pixel175",
                  "rawType": "float64",
                  "type": "float"
                },
                {
                  "name": "pixel176",
                  "rawType": "float64",
                  "type": "float"
                },
                {
                  "name": "pixel177",
                  "rawType": "float64",
                  "type": "float"
                },
                {
                  "name": "pixel178",
                  "rawType": "float64",
                  "type": "float"
                },
                {
                  "name": "pixel179",
                  "rawType": "float64",
                  "type": "float"
                },
                {
                  "name": "pixel180",
                  "rawType": "float64",
                  "type": "float"
                },
                {
                  "name": "pixel181",
                  "rawType": "float64",
                  "type": "float"
                },
                {
                  "name": "pixel182",
                  "rawType": "float64",
                  "type": "float"
                },
                {
                  "name": "pixel183",
                  "rawType": "float64",
                  "type": "float"
                },
                {
                  "name": "pixel184",
                  "rawType": "float64",
                  "type": "float"
                },
                {
                  "name": "pixel185",
                  "rawType": "float64",
                  "type": "float"
                },
                {
                  "name": "pixel186",
                  "rawType": "float64",
                  "type": "float"
                },
                {
                  "name": "pixel187",
                  "rawType": "float64",
                  "type": "float"
                },
                {
                  "name": "pixel188",
                  "rawType": "float64",
                  "type": "float"
                },
                {
                  "name": "pixel189",
                  "rawType": "float64",
                  "type": "float"
                },
                {
                  "name": "pixel190",
                  "rawType": "float64",
                  "type": "float"
                },
                {
                  "name": "pixel191",
                  "rawType": "float64",
                  "type": "float"
                },
                {
                  "name": "pixel192",
                  "rawType": "float64",
                  "type": "float"
                },
                {
                  "name": "pixel193",
                  "rawType": "float64",
                  "type": "float"
                },
                {
                  "name": "pixel194",
                  "rawType": "float64",
                  "type": "float"
                },
                {
                  "name": "pixel195",
                  "rawType": "float64",
                  "type": "float"
                },
                {
                  "name": "pixel196",
                  "rawType": "float64",
                  "type": "float"
                },
                {
                  "name": "pixel197",
                  "rawType": "float64",
                  "type": "float"
                },
                {
                  "name": "pixel198",
                  "rawType": "float64",
                  "type": "float"
                },
                {
                  "name": "pixel199",
                  "rawType": "float64",
                  "type": "float"
                },
                {
                  "name": "pixel200",
                  "rawType": "float64",
                  "type": "float"
                },
                {
                  "name": "pixel201",
                  "rawType": "float64",
                  "type": "float"
                },
                {
                  "name": "pixel202",
                  "rawType": "float64",
                  "type": "float"
                },
                {
                  "name": "pixel203",
                  "rawType": "float64",
                  "type": "float"
                },
                {
                  "name": "pixel204",
                  "rawType": "float64",
                  "type": "float"
                },
                {
                  "name": "pixel205",
                  "rawType": "float64",
                  "type": "float"
                },
                {
                  "name": "pixel206",
                  "rawType": "float64",
                  "type": "float"
                },
                {
                  "name": "pixel207",
                  "rawType": "float64",
                  "type": "float"
                },
                {
                  "name": "pixel208",
                  "rawType": "float64",
                  "type": "float"
                },
                {
                  "name": "pixel209",
                  "rawType": "float64",
                  "type": "float"
                },
                {
                  "name": "pixel210",
                  "rawType": "float64",
                  "type": "float"
                },
                {
                  "name": "pixel211",
                  "rawType": "float64",
                  "type": "float"
                },
                {
                  "name": "pixel212",
                  "rawType": "float64",
                  "type": "float"
                },
                {
                  "name": "pixel213",
                  "rawType": "float64",
                  "type": "float"
                },
                {
                  "name": "pixel214",
                  "rawType": "float64",
                  "type": "float"
                },
                {
                  "name": "pixel215",
                  "rawType": "float64",
                  "type": "float"
                },
                {
                  "name": "pixel216",
                  "rawType": "float64",
                  "type": "float"
                },
                {
                  "name": "pixel217",
                  "rawType": "float64",
                  "type": "float"
                },
                {
                  "name": "pixel218",
                  "rawType": "float64",
                  "type": "float"
                },
                {
                  "name": "pixel219",
                  "rawType": "float64",
                  "type": "float"
                },
                {
                  "name": "pixel220",
                  "rawType": "float64",
                  "type": "float"
                },
                {
                  "name": "pixel221",
                  "rawType": "float64",
                  "type": "float"
                },
                {
                  "name": "pixel222",
                  "rawType": "float64",
                  "type": "float"
                },
                {
                  "name": "pixel223",
                  "rawType": "float64",
                  "type": "float"
                },
                {
                  "name": "pixel224",
                  "rawType": "float64",
                  "type": "float"
                },
                {
                  "name": "pixel225",
                  "rawType": "float64",
                  "type": "float"
                },
                {
                  "name": "pixel226",
                  "rawType": "float64",
                  "type": "float"
                },
                {
                  "name": "pixel227",
                  "rawType": "float64",
                  "type": "float"
                },
                {
                  "name": "pixel228",
                  "rawType": "float64",
                  "type": "float"
                },
                {
                  "name": "pixel229",
                  "rawType": "float64",
                  "type": "float"
                },
                {
                  "name": "pixel230",
                  "rawType": "float64",
                  "type": "float"
                },
                {
                  "name": "pixel231",
                  "rawType": "float64",
                  "type": "float"
                },
                {
                  "name": "pixel232",
                  "rawType": "float64",
                  "type": "float"
                },
                {
                  "name": "pixel233",
                  "rawType": "float64",
                  "type": "float"
                },
                {
                  "name": "pixel234",
                  "rawType": "float64",
                  "type": "float"
                },
                {
                  "name": "pixel235",
                  "rawType": "float64",
                  "type": "float"
                },
                {
                  "name": "pixel236",
                  "rawType": "float64",
                  "type": "float"
                },
                {
                  "name": "pixel237",
                  "rawType": "float64",
                  "type": "float"
                },
                {
                  "name": "pixel238",
                  "rawType": "float64",
                  "type": "float"
                },
                {
                  "name": "pixel239",
                  "rawType": "float64",
                  "type": "float"
                },
                {
                  "name": "pixel240",
                  "rawType": "float64",
                  "type": "float"
                },
                {
                  "name": "pixel241",
                  "rawType": "float64",
                  "type": "float"
                },
                {
                  "name": "pixel242",
                  "rawType": "float64",
                  "type": "float"
                },
                {
                  "name": "pixel243",
                  "rawType": "float64",
                  "type": "float"
                },
                {
                  "name": "pixel244",
                  "rawType": "float64",
                  "type": "float"
                },
                {
                  "name": "pixel245",
                  "rawType": "float64",
                  "type": "float"
                },
                {
                  "name": "pixel246",
                  "rawType": "float64",
                  "type": "float"
                },
                {
                  "name": "pixel247",
                  "rawType": "float64",
                  "type": "float"
                },
                {
                  "name": "pixel248",
                  "rawType": "float64",
                  "type": "float"
                },
                {
                  "name": "pixel249",
                  "rawType": "float64",
                  "type": "float"
                },
                {
                  "name": "pixel250",
                  "rawType": "float64",
                  "type": "float"
                },
                {
                  "name": "pixel251",
                  "rawType": "float64",
                  "type": "float"
                },
                {
                  "name": "pixel252",
                  "rawType": "float64",
                  "type": "float"
                },
                {
                  "name": "pixel253",
                  "rawType": "float64",
                  "type": "float"
                },
                {
                  "name": "pixel254",
                  "rawType": "float64",
                  "type": "float"
                },
                {
                  "name": "pixel255",
                  "rawType": "float64",
                  "type": "float"
                },
                {
                  "name": "pixel256",
                  "rawType": "float64",
                  "type": "float"
                },
                {
                  "name": "pixel257",
                  "rawType": "float64",
                  "type": "float"
                },
                {
                  "name": "pixel258",
                  "rawType": "float64",
                  "type": "float"
                },
                {
                  "name": "pixel259",
                  "rawType": "float64",
                  "type": "float"
                },
                {
                  "name": "pixel260",
                  "rawType": "float64",
                  "type": "float"
                },
                {
                  "name": "pixel261",
                  "rawType": "float64",
                  "type": "float"
                },
                {
                  "name": "pixel262",
                  "rawType": "float64",
                  "type": "float"
                },
                {
                  "name": "pixel263",
                  "rawType": "float64",
                  "type": "float"
                },
                {
                  "name": "pixel264",
                  "rawType": "float64",
                  "type": "float"
                },
                {
                  "name": "pixel265",
                  "rawType": "float64",
                  "type": "float"
                },
                {
                  "name": "pixel266",
                  "rawType": "float64",
                  "type": "float"
                },
                {
                  "name": "pixel267",
                  "rawType": "float64",
                  "type": "float"
                },
                {
                  "name": "pixel268",
                  "rawType": "float64",
                  "type": "float"
                },
                {
                  "name": "pixel269",
                  "rawType": "float64",
                  "type": "float"
                },
                {
                  "name": "pixel270",
                  "rawType": "float64",
                  "type": "float"
                },
                {
                  "name": "pixel271",
                  "rawType": "float64",
                  "type": "float"
                },
                {
                  "name": "pixel272",
                  "rawType": "float64",
                  "type": "float"
                },
                {
                  "name": "pixel273",
                  "rawType": "float64",
                  "type": "float"
                },
                {
                  "name": "pixel274",
                  "rawType": "float64",
                  "type": "float"
                },
                {
                  "name": "pixel275",
                  "rawType": "float64",
                  "type": "float"
                },
                {
                  "name": "pixel276",
                  "rawType": "float64",
                  "type": "float"
                },
                {
                  "name": "pixel277",
                  "rawType": "float64",
                  "type": "float"
                },
                {
                  "name": "pixel278",
                  "rawType": "float64",
                  "type": "float"
                },
                {
                  "name": "pixel279",
                  "rawType": "float64",
                  "type": "float"
                },
                {
                  "name": "pixel280",
                  "rawType": "float64",
                  "type": "float"
                },
                {
                  "name": "pixel281",
                  "rawType": "float64",
                  "type": "float"
                },
                {
                  "name": "pixel282",
                  "rawType": "float64",
                  "type": "float"
                },
                {
                  "name": "pixel283",
                  "rawType": "float64",
                  "type": "float"
                },
                {
                  "name": "pixel284",
                  "rawType": "float64",
                  "type": "float"
                },
                {
                  "name": "pixel285",
                  "rawType": "float64",
                  "type": "float"
                },
                {
                  "name": "pixel286",
                  "rawType": "float64",
                  "type": "float"
                },
                {
                  "name": "pixel287",
                  "rawType": "float64",
                  "type": "float"
                },
                {
                  "name": "pixel288",
                  "rawType": "float64",
                  "type": "float"
                },
                {
                  "name": "pixel289",
                  "rawType": "float64",
                  "type": "float"
                },
                {
                  "name": "pixel290",
                  "rawType": "float64",
                  "type": "float"
                },
                {
                  "name": "pixel291",
                  "rawType": "float64",
                  "type": "float"
                },
                {
                  "name": "pixel292",
                  "rawType": "float64",
                  "type": "float"
                },
                {
                  "name": "pixel293",
                  "rawType": "float64",
                  "type": "float"
                },
                {
                  "name": "pixel294",
                  "rawType": "float64",
                  "type": "float"
                },
                {
                  "name": "pixel295",
                  "rawType": "float64",
                  "type": "float"
                },
                {
                  "name": "pixel296",
                  "rawType": "float64",
                  "type": "float"
                },
                {
                  "name": "pixel297",
                  "rawType": "float64",
                  "type": "float"
                },
                {
                  "name": "pixel298",
                  "rawType": "float64",
                  "type": "float"
                },
                {
                  "name": "pixel299",
                  "rawType": "float64",
                  "type": "float"
                },
                {
                  "name": "pixel300",
                  "rawType": "float64",
                  "type": "float"
                },
                {
                  "name": "pixel301",
                  "rawType": "float64",
                  "type": "float"
                },
                {
                  "name": "pixel302",
                  "rawType": "float64",
                  "type": "float"
                },
                {
                  "name": "pixel303",
                  "rawType": "float64",
                  "type": "float"
                },
                {
                  "name": "pixel304",
                  "rawType": "float64",
                  "type": "float"
                },
                {
                  "name": "pixel305",
                  "rawType": "float64",
                  "type": "float"
                },
                {
                  "name": "pixel306",
                  "rawType": "float64",
                  "type": "float"
                },
                {
                  "name": "pixel307",
                  "rawType": "float64",
                  "type": "float"
                },
                {
                  "name": "pixel308",
                  "rawType": "float64",
                  "type": "float"
                },
                {
                  "name": "pixel309",
                  "rawType": "float64",
                  "type": "float"
                },
                {
                  "name": "pixel310",
                  "rawType": "float64",
                  "type": "float"
                },
                {
                  "name": "pixel311",
                  "rawType": "float64",
                  "type": "float"
                },
                {
                  "name": "pixel312",
                  "rawType": "float64",
                  "type": "float"
                },
                {
                  "name": "pixel313",
                  "rawType": "float64",
                  "type": "float"
                },
                {
                  "name": "pixel314",
                  "rawType": "float64",
                  "type": "float"
                },
                {
                  "name": "pixel315",
                  "rawType": "float64",
                  "type": "float"
                },
                {
                  "name": "pixel316",
                  "rawType": "float64",
                  "type": "float"
                },
                {
                  "name": "pixel317",
                  "rawType": "float64",
                  "type": "float"
                },
                {
                  "name": "pixel318",
                  "rawType": "float64",
                  "type": "float"
                },
                {
                  "name": "pixel319",
                  "rawType": "float64",
                  "type": "float"
                },
                {
                  "name": "pixel320",
                  "rawType": "float64",
                  "type": "float"
                },
                {
                  "name": "pixel321",
                  "rawType": "float64",
                  "type": "float"
                },
                {
                  "name": "pixel322",
                  "rawType": "float64",
                  "type": "float"
                },
                {
                  "name": "pixel323",
                  "rawType": "float64",
                  "type": "float"
                },
                {
                  "name": "pixel324",
                  "rawType": "float64",
                  "type": "float"
                },
                {
                  "name": "pixel325",
                  "rawType": "float64",
                  "type": "float"
                },
                {
                  "name": "pixel326",
                  "rawType": "float64",
                  "type": "float"
                },
                {
                  "name": "pixel327",
                  "rawType": "float64",
                  "type": "float"
                },
                {
                  "name": "pixel328",
                  "rawType": "float64",
                  "type": "float"
                },
                {
                  "name": "pixel329",
                  "rawType": "float64",
                  "type": "float"
                },
                {
                  "name": "pixel330",
                  "rawType": "float64",
                  "type": "float"
                },
                {
                  "name": "pixel331",
                  "rawType": "float64",
                  "type": "float"
                },
                {
                  "name": "pixel332",
                  "rawType": "float64",
                  "type": "float"
                },
                {
                  "name": "pixel333",
                  "rawType": "float64",
                  "type": "float"
                },
                {
                  "name": "pixel334",
                  "rawType": "float64",
                  "type": "float"
                },
                {
                  "name": "pixel335",
                  "rawType": "float64",
                  "type": "float"
                },
                {
                  "name": "pixel336",
                  "rawType": "float64",
                  "type": "float"
                },
                {
                  "name": "pixel337",
                  "rawType": "float64",
                  "type": "float"
                },
                {
                  "name": "pixel338",
                  "rawType": "float64",
                  "type": "float"
                },
                {
                  "name": "pixel339",
                  "rawType": "float64",
                  "type": "float"
                },
                {
                  "name": "pixel340",
                  "rawType": "float64",
                  "type": "float"
                },
                {
                  "name": "pixel341",
                  "rawType": "float64",
                  "type": "float"
                },
                {
                  "name": "pixel342",
                  "rawType": "float64",
                  "type": "float"
                },
                {
                  "name": "pixel343",
                  "rawType": "float64",
                  "type": "float"
                },
                {
                  "name": "pixel344",
                  "rawType": "float64",
                  "type": "float"
                },
                {
                  "name": "pixel345",
                  "rawType": "float64",
                  "type": "float"
                },
                {
                  "name": "pixel346",
                  "rawType": "float64",
                  "type": "float"
                },
                {
                  "name": "pixel347",
                  "rawType": "float64",
                  "type": "float"
                },
                {
                  "name": "pixel348",
                  "rawType": "float64",
                  "type": "float"
                },
                {
                  "name": "pixel349",
                  "rawType": "float64",
                  "type": "float"
                },
                {
                  "name": "pixel350",
                  "rawType": "float64",
                  "type": "float"
                },
                {
                  "name": "pixel351",
                  "rawType": "float64",
                  "type": "float"
                },
                {
                  "name": "pixel352",
                  "rawType": "float64",
                  "type": "float"
                },
                {
                  "name": "pixel353",
                  "rawType": "float64",
                  "type": "float"
                },
                {
                  "name": "pixel354",
                  "rawType": "float64",
                  "type": "float"
                },
                {
                  "name": "pixel355",
                  "rawType": "float64",
                  "type": "float"
                },
                {
                  "name": "pixel356",
                  "rawType": "float64",
                  "type": "float"
                },
                {
                  "name": "pixel357",
                  "rawType": "float64",
                  "type": "float"
                },
                {
                  "name": "pixel358",
                  "rawType": "float64",
                  "type": "float"
                },
                {
                  "name": "pixel359",
                  "rawType": "float64",
                  "type": "float"
                },
                {
                  "name": "pixel360",
                  "rawType": "float64",
                  "type": "float"
                },
                {
                  "name": "pixel361",
                  "rawType": "float64",
                  "type": "float"
                },
                {
                  "name": "pixel362",
                  "rawType": "float64",
                  "type": "float"
                },
                {
                  "name": "pixel363",
                  "rawType": "float64",
                  "type": "float"
                },
                {
                  "name": "pixel364",
                  "rawType": "float64",
                  "type": "float"
                },
                {
                  "name": "pixel365",
                  "rawType": "float64",
                  "type": "float"
                },
                {
                  "name": "pixel366",
                  "rawType": "float64",
                  "type": "float"
                },
                {
                  "name": "pixel367",
                  "rawType": "float64",
                  "type": "float"
                },
                {
                  "name": "pixel368",
                  "rawType": "float64",
                  "type": "float"
                },
                {
                  "name": "pixel369",
                  "rawType": "float64",
                  "type": "float"
                },
                {
                  "name": "pixel370",
                  "rawType": "float64",
                  "type": "float"
                },
                {
                  "name": "pixel371",
                  "rawType": "float64",
                  "type": "float"
                },
                {
                  "name": "pixel372",
                  "rawType": "float64",
                  "type": "float"
                },
                {
                  "name": "pixel373",
                  "rawType": "float64",
                  "type": "float"
                },
                {
                  "name": "pixel374",
                  "rawType": "float64",
                  "type": "float"
                },
                {
                  "name": "pixel375",
                  "rawType": "float64",
                  "type": "float"
                },
                {
                  "name": "pixel376",
                  "rawType": "float64",
                  "type": "float"
                },
                {
                  "name": "pixel377",
                  "rawType": "float64",
                  "type": "float"
                },
                {
                  "name": "pixel378",
                  "rawType": "float64",
                  "type": "float"
                },
                {
                  "name": "pixel379",
                  "rawType": "float64",
                  "type": "float"
                },
                {
                  "name": "pixel380",
                  "rawType": "float64",
                  "type": "float"
                },
                {
                  "name": "pixel381",
                  "rawType": "float64",
                  "type": "float"
                },
                {
                  "name": "pixel382",
                  "rawType": "float64",
                  "type": "float"
                },
                {
                  "name": "pixel383",
                  "rawType": "float64",
                  "type": "float"
                },
                {
                  "name": "pixel384",
                  "rawType": "float64",
                  "type": "float"
                },
                {
                  "name": "pixel385",
                  "rawType": "float64",
                  "type": "float"
                },
                {
                  "name": "pixel386",
                  "rawType": "float64",
                  "type": "float"
                },
                {
                  "name": "pixel387",
                  "rawType": "float64",
                  "type": "float"
                },
                {
                  "name": "pixel388",
                  "rawType": "float64",
                  "type": "float"
                },
                {
                  "name": "pixel389",
                  "rawType": "float64",
                  "type": "float"
                },
                {
                  "name": "pixel390",
                  "rawType": "float64",
                  "type": "float"
                },
                {
                  "name": "pixel391",
                  "rawType": "float64",
                  "type": "float"
                },
                {
                  "name": "pixel392",
                  "rawType": "float64",
                  "type": "float"
                },
                {
                  "name": "pixel393",
                  "rawType": "float64",
                  "type": "float"
                },
                {
                  "name": "pixel394",
                  "rawType": "float64",
                  "type": "float"
                },
                {
                  "name": "pixel395",
                  "rawType": "float64",
                  "type": "float"
                },
                {
                  "name": "pixel396",
                  "rawType": "float64",
                  "type": "float"
                },
                {
                  "name": "pixel397",
                  "rawType": "float64",
                  "type": "float"
                },
                {
                  "name": "pixel398",
                  "rawType": "float64",
                  "type": "float"
                },
                {
                  "name": "pixel399",
                  "rawType": "float64",
                  "type": "float"
                },
                {
                  "name": "pixel400",
                  "rawType": "float64",
                  "type": "float"
                },
                {
                  "name": "pixel401",
                  "rawType": "float64",
                  "type": "float"
                },
                {
                  "name": "pixel402",
                  "rawType": "float64",
                  "type": "float"
                },
                {
                  "name": "pixel403",
                  "rawType": "float64",
                  "type": "float"
                },
                {
                  "name": "pixel404",
                  "rawType": "float64",
                  "type": "float"
                },
                {
                  "name": "pixel405",
                  "rawType": "float64",
                  "type": "float"
                },
                {
                  "name": "pixel406",
                  "rawType": "float64",
                  "type": "float"
                },
                {
                  "name": "pixel407",
                  "rawType": "float64",
                  "type": "float"
                },
                {
                  "name": "pixel408",
                  "rawType": "float64",
                  "type": "float"
                },
                {
                  "name": "pixel409",
                  "rawType": "float64",
                  "type": "float"
                },
                {
                  "name": "pixel410",
                  "rawType": "float64",
                  "type": "float"
                },
                {
                  "name": "pixel411",
                  "rawType": "float64",
                  "type": "float"
                },
                {
                  "name": "pixel412",
                  "rawType": "float64",
                  "type": "float"
                },
                {
                  "name": "pixel413",
                  "rawType": "float64",
                  "type": "float"
                },
                {
                  "name": "pixel414",
                  "rawType": "float64",
                  "type": "float"
                },
                {
                  "name": "pixel415",
                  "rawType": "float64",
                  "type": "float"
                },
                {
                  "name": "pixel416",
                  "rawType": "float64",
                  "type": "float"
                },
                {
                  "name": "pixel417",
                  "rawType": "float64",
                  "type": "float"
                },
                {
                  "name": "pixel418",
                  "rawType": "float64",
                  "type": "float"
                },
                {
                  "name": "pixel419",
                  "rawType": "float64",
                  "type": "float"
                },
                {
                  "name": "pixel420",
                  "rawType": "float64",
                  "type": "float"
                },
                {
                  "name": "pixel421",
                  "rawType": "float64",
                  "type": "float"
                },
                {
                  "name": "pixel422",
                  "rawType": "float64",
                  "type": "float"
                },
                {
                  "name": "pixel423",
                  "rawType": "float64",
                  "type": "float"
                },
                {
                  "name": "pixel424",
                  "rawType": "float64",
                  "type": "float"
                },
                {
                  "name": "pixel425",
                  "rawType": "float64",
                  "type": "float"
                },
                {
                  "name": "pixel426",
                  "rawType": "float64",
                  "type": "float"
                },
                {
                  "name": "pixel427",
                  "rawType": "float64",
                  "type": "float"
                },
                {
                  "name": "pixel428",
                  "rawType": "float64",
                  "type": "float"
                },
                {
                  "name": "pixel429",
                  "rawType": "float64",
                  "type": "float"
                },
                {
                  "name": "pixel430",
                  "rawType": "float64",
                  "type": "float"
                },
                {
                  "name": "pixel431",
                  "rawType": "float64",
                  "type": "float"
                },
                {
                  "name": "pixel432",
                  "rawType": "float64",
                  "type": "float"
                },
                {
                  "name": "pixel433",
                  "rawType": "float64",
                  "type": "float"
                },
                {
                  "name": "pixel434",
                  "rawType": "float64",
                  "type": "float"
                },
                {
                  "name": "pixel435",
                  "rawType": "float64",
                  "type": "float"
                },
                {
                  "name": "pixel436",
                  "rawType": "float64",
                  "type": "float"
                },
                {
                  "name": "pixel437",
                  "rawType": "float64",
                  "type": "float"
                },
                {
                  "name": "pixel438",
                  "rawType": "float64",
                  "type": "float"
                },
                {
                  "name": "pixel439",
                  "rawType": "float64",
                  "type": "float"
                },
                {
                  "name": "pixel440",
                  "rawType": "float64",
                  "type": "float"
                },
                {
                  "name": "pixel441",
                  "rawType": "float64",
                  "type": "float"
                },
                {
                  "name": "pixel442",
                  "rawType": "float64",
                  "type": "float"
                },
                {
                  "name": "pixel443",
                  "rawType": "float64",
                  "type": "float"
                },
                {
                  "name": "pixel444",
                  "rawType": "float64",
                  "type": "float"
                },
                {
                  "name": "pixel445",
                  "rawType": "float64",
                  "type": "float"
                },
                {
                  "name": "pixel446",
                  "rawType": "float64",
                  "type": "float"
                },
                {
                  "name": "pixel447",
                  "rawType": "float64",
                  "type": "float"
                },
                {
                  "name": "pixel448",
                  "rawType": "float64",
                  "type": "float"
                },
                {
                  "name": "pixel449",
                  "rawType": "float64",
                  "type": "float"
                },
                {
                  "name": "pixel450",
                  "rawType": "float64",
                  "type": "float"
                },
                {
                  "name": "pixel451",
                  "rawType": "float64",
                  "type": "float"
                },
                {
                  "name": "pixel452",
                  "rawType": "float64",
                  "type": "float"
                },
                {
                  "name": "pixel453",
                  "rawType": "float64",
                  "type": "float"
                },
                {
                  "name": "pixel454",
                  "rawType": "float64",
                  "type": "float"
                },
                {
                  "name": "pixel455",
                  "rawType": "float64",
                  "type": "float"
                },
                {
                  "name": "pixel456",
                  "rawType": "float64",
                  "type": "float"
                },
                {
                  "name": "pixel457",
                  "rawType": "float64",
                  "type": "float"
                },
                {
                  "name": "pixel458",
                  "rawType": "float64",
                  "type": "float"
                },
                {
                  "name": "pixel459",
                  "rawType": "float64",
                  "type": "float"
                },
                {
                  "name": "pixel460",
                  "rawType": "float64",
                  "type": "float"
                },
                {
                  "name": "pixel461",
                  "rawType": "float64",
                  "type": "float"
                },
                {
                  "name": "pixel462",
                  "rawType": "float64",
                  "type": "float"
                },
                {
                  "name": "pixel463",
                  "rawType": "float64",
                  "type": "float"
                },
                {
                  "name": "pixel464",
                  "rawType": "float64",
                  "type": "float"
                },
                {
                  "name": "pixel465",
                  "rawType": "float64",
                  "type": "float"
                },
                {
                  "name": "pixel466",
                  "rawType": "float64",
                  "type": "float"
                },
                {
                  "name": "pixel467",
                  "rawType": "float64",
                  "type": "float"
                },
                {
                  "name": "pixel468",
                  "rawType": "float64",
                  "type": "float"
                },
                {
                  "name": "pixel469",
                  "rawType": "float64",
                  "type": "float"
                },
                {
                  "name": "pixel470",
                  "rawType": "float64",
                  "type": "float"
                },
                {
                  "name": "pixel471",
                  "rawType": "float64",
                  "type": "float"
                },
                {
                  "name": "pixel472",
                  "rawType": "float64",
                  "type": "float"
                },
                {
                  "name": "pixel473",
                  "rawType": "float64",
                  "type": "float"
                },
                {
                  "name": "pixel474",
                  "rawType": "float64",
                  "type": "float"
                },
                {
                  "name": "pixel475",
                  "rawType": "float64",
                  "type": "float"
                },
                {
                  "name": "pixel476",
                  "rawType": "float64",
                  "type": "float"
                },
                {
                  "name": "pixel477",
                  "rawType": "float64",
                  "type": "float"
                },
                {
                  "name": "pixel478",
                  "rawType": "float64",
                  "type": "float"
                },
                {
                  "name": "pixel479",
                  "rawType": "float64",
                  "type": "float"
                },
                {
                  "name": "pixel480",
                  "rawType": "float64",
                  "type": "float"
                },
                {
                  "name": "pixel481",
                  "rawType": "float64",
                  "type": "float"
                },
                {
                  "name": "pixel482",
                  "rawType": "float64",
                  "type": "float"
                },
                {
                  "name": "pixel483",
                  "rawType": "float64",
                  "type": "float"
                },
                {
                  "name": "pixel484",
                  "rawType": "float64",
                  "type": "float"
                },
                {
                  "name": "pixel485",
                  "rawType": "float64",
                  "type": "float"
                },
                {
                  "name": "pixel486",
                  "rawType": "float64",
                  "type": "float"
                },
                {
                  "name": "pixel487",
                  "rawType": "float64",
                  "type": "float"
                },
                {
                  "name": "pixel488",
                  "rawType": "float64",
                  "type": "float"
                },
                {
                  "name": "pixel489",
                  "rawType": "float64",
                  "type": "float"
                },
                {
                  "name": "pixel490",
                  "rawType": "float64",
                  "type": "float"
                },
                {
                  "name": "pixel491",
                  "rawType": "float64",
                  "type": "float"
                },
                {
                  "name": "pixel492",
                  "rawType": "float64",
                  "type": "float"
                },
                {
                  "name": "pixel493",
                  "rawType": "float64",
                  "type": "float"
                },
                {
                  "name": "pixel494",
                  "rawType": "float64",
                  "type": "float"
                },
                {
                  "name": "pixel495",
                  "rawType": "float64",
                  "type": "float"
                },
                {
                  "name": "pixel496",
                  "rawType": "float64",
                  "type": "float"
                },
                {
                  "name": "pixel497",
                  "rawType": "float64",
                  "type": "float"
                },
                {
                  "name": "pixel498",
                  "rawType": "float64",
                  "type": "float"
                },
                {
                  "name": "pixel499",
                  "rawType": "float64",
                  "type": "float"
                },
                {
                  "name": "pixel500",
                  "rawType": "float64",
                  "type": "float"
                },
                {
                  "name": "pixel501",
                  "rawType": "float64",
                  "type": "float"
                },
                {
                  "name": "pixel502",
                  "rawType": "float64",
                  "type": "float"
                },
                {
                  "name": "pixel503",
                  "rawType": "float64",
                  "type": "float"
                },
                {
                  "name": "pixel504",
                  "rawType": "float64",
                  "type": "float"
                },
                {
                  "name": "pixel505",
                  "rawType": "float64",
                  "type": "float"
                },
                {
                  "name": "pixel506",
                  "rawType": "float64",
                  "type": "float"
                },
                {
                  "name": "pixel507",
                  "rawType": "float64",
                  "type": "float"
                },
                {
                  "name": "pixel508",
                  "rawType": "float64",
                  "type": "float"
                },
                {
                  "name": "pixel509",
                  "rawType": "float64",
                  "type": "float"
                },
                {
                  "name": "pixel510",
                  "rawType": "float64",
                  "type": "float"
                },
                {
                  "name": "pixel511",
                  "rawType": "float64",
                  "type": "float"
                },
                {
                  "name": "pixel512",
                  "rawType": "float64",
                  "type": "float"
                },
                {
                  "name": "pixel513",
                  "rawType": "float64",
                  "type": "float"
                },
                {
                  "name": "pixel514",
                  "rawType": "float64",
                  "type": "float"
                },
                {
                  "name": "pixel515",
                  "rawType": "float64",
                  "type": "float"
                },
                {
                  "name": "pixel516",
                  "rawType": "float64",
                  "type": "float"
                },
                {
                  "name": "pixel517",
                  "rawType": "float64",
                  "type": "float"
                },
                {
                  "name": "pixel518",
                  "rawType": "float64",
                  "type": "float"
                },
                {
                  "name": "pixel519",
                  "rawType": "float64",
                  "type": "float"
                },
                {
                  "name": "pixel520",
                  "rawType": "float64",
                  "type": "float"
                },
                {
                  "name": "pixel521",
                  "rawType": "float64",
                  "type": "float"
                },
                {
                  "name": "pixel522",
                  "rawType": "float64",
                  "type": "float"
                },
                {
                  "name": "pixel523",
                  "rawType": "float64",
                  "type": "float"
                },
                {
                  "name": "pixel524",
                  "rawType": "float64",
                  "type": "float"
                },
                {
                  "name": "pixel525",
                  "rawType": "float64",
                  "type": "float"
                },
                {
                  "name": "pixel526",
                  "rawType": "float64",
                  "type": "float"
                },
                {
                  "name": "pixel527",
                  "rawType": "float64",
                  "type": "float"
                },
                {
                  "name": "pixel528",
                  "rawType": "float64",
                  "type": "float"
                },
                {
                  "name": "pixel529",
                  "rawType": "float64",
                  "type": "float"
                },
                {
                  "name": "pixel530",
                  "rawType": "float64",
                  "type": "float"
                },
                {
                  "name": "pixel531",
                  "rawType": "float64",
                  "type": "float"
                },
                {
                  "name": "pixel532",
                  "rawType": "float64",
                  "type": "float"
                },
                {
                  "name": "pixel533",
                  "rawType": "float64",
                  "type": "float"
                },
                {
                  "name": "pixel534",
                  "rawType": "float64",
                  "type": "float"
                },
                {
                  "name": "pixel535",
                  "rawType": "float64",
                  "type": "float"
                },
                {
                  "name": "pixel536",
                  "rawType": "float64",
                  "type": "float"
                },
                {
                  "name": "pixel537",
                  "rawType": "float64",
                  "type": "float"
                },
                {
                  "name": "pixel538",
                  "rawType": "float64",
                  "type": "float"
                },
                {
                  "name": "pixel539",
                  "rawType": "float64",
                  "type": "float"
                },
                {
                  "name": "pixel540",
                  "rawType": "float64",
                  "type": "float"
                },
                {
                  "name": "pixel541",
                  "rawType": "float64",
                  "type": "float"
                },
                {
                  "name": "pixel542",
                  "rawType": "float64",
                  "type": "float"
                },
                {
                  "name": "pixel543",
                  "rawType": "float64",
                  "type": "float"
                },
                {
                  "name": "pixel544",
                  "rawType": "float64",
                  "type": "float"
                },
                {
                  "name": "pixel545",
                  "rawType": "float64",
                  "type": "float"
                },
                {
                  "name": "pixel546",
                  "rawType": "float64",
                  "type": "float"
                },
                {
                  "name": "pixel547",
                  "rawType": "float64",
                  "type": "float"
                },
                {
                  "name": "pixel548",
                  "rawType": "float64",
                  "type": "float"
                },
                {
                  "name": "pixel549",
                  "rawType": "float64",
                  "type": "float"
                },
                {
                  "name": "pixel550",
                  "rawType": "float64",
                  "type": "float"
                },
                {
                  "name": "pixel551",
                  "rawType": "float64",
                  "type": "float"
                },
                {
                  "name": "pixel552",
                  "rawType": "float64",
                  "type": "float"
                },
                {
                  "name": "pixel553",
                  "rawType": "float64",
                  "type": "float"
                },
                {
                  "name": "pixel554",
                  "rawType": "float64",
                  "type": "float"
                },
                {
                  "name": "pixel555",
                  "rawType": "float64",
                  "type": "float"
                },
                {
                  "name": "pixel556",
                  "rawType": "float64",
                  "type": "float"
                },
                {
                  "name": "pixel557",
                  "rawType": "float64",
                  "type": "float"
                },
                {
                  "name": "pixel558",
                  "rawType": "float64",
                  "type": "float"
                },
                {
                  "name": "pixel559",
                  "rawType": "float64",
                  "type": "float"
                },
                {
                  "name": "pixel560",
                  "rawType": "float64",
                  "type": "float"
                },
                {
                  "name": "pixel561",
                  "rawType": "float64",
                  "type": "float"
                },
                {
                  "name": "pixel562",
                  "rawType": "float64",
                  "type": "float"
                },
                {
                  "name": "pixel563",
                  "rawType": "float64",
                  "type": "float"
                },
                {
                  "name": "pixel564",
                  "rawType": "float64",
                  "type": "float"
                },
                {
                  "name": "pixel565",
                  "rawType": "float64",
                  "type": "float"
                },
                {
                  "name": "pixel566",
                  "rawType": "float64",
                  "type": "float"
                },
                {
                  "name": "pixel567",
                  "rawType": "float64",
                  "type": "float"
                },
                {
                  "name": "pixel568",
                  "rawType": "float64",
                  "type": "float"
                },
                {
                  "name": "pixel569",
                  "rawType": "float64",
                  "type": "float"
                },
                {
                  "name": "pixel570",
                  "rawType": "float64",
                  "type": "float"
                },
                {
                  "name": "pixel571",
                  "rawType": "float64",
                  "type": "float"
                },
                {
                  "name": "pixel572",
                  "rawType": "float64",
                  "type": "float"
                },
                {
                  "name": "pixel573",
                  "rawType": "float64",
                  "type": "float"
                },
                {
                  "name": "pixel574",
                  "rawType": "float64",
                  "type": "float"
                },
                {
                  "name": "pixel575",
                  "rawType": "float64",
                  "type": "float"
                },
                {
                  "name": "pixel576",
                  "rawType": "float64",
                  "type": "float"
                },
                {
                  "name": "pixel577",
                  "rawType": "float64",
                  "type": "float"
                },
                {
                  "name": "pixel578",
                  "rawType": "float64",
                  "type": "float"
                },
                {
                  "name": "pixel579",
                  "rawType": "float64",
                  "type": "float"
                },
                {
                  "name": "pixel580",
                  "rawType": "float64",
                  "type": "float"
                },
                {
                  "name": "pixel581",
                  "rawType": "float64",
                  "type": "float"
                },
                {
                  "name": "pixel582",
                  "rawType": "float64",
                  "type": "float"
                },
                {
                  "name": "pixel583",
                  "rawType": "float64",
                  "type": "float"
                },
                {
                  "name": "pixel584",
                  "rawType": "float64",
                  "type": "float"
                },
                {
                  "name": "pixel585",
                  "rawType": "float64",
                  "type": "float"
                },
                {
                  "name": "pixel586",
                  "rawType": "float64",
                  "type": "float"
                },
                {
                  "name": "pixel587",
                  "rawType": "float64",
                  "type": "float"
                },
                {
                  "name": "pixel588",
                  "rawType": "float64",
                  "type": "float"
                },
                {
                  "name": "pixel589",
                  "rawType": "float64",
                  "type": "float"
                },
                {
                  "name": "pixel590",
                  "rawType": "float64",
                  "type": "float"
                },
                {
                  "name": "pixel591",
                  "rawType": "float64",
                  "type": "float"
                },
                {
                  "name": "pixel592",
                  "rawType": "float64",
                  "type": "float"
                },
                {
                  "name": "pixel593",
                  "rawType": "float64",
                  "type": "float"
                },
                {
                  "name": "pixel594",
                  "rawType": "float64",
                  "type": "float"
                },
                {
                  "name": "pixel595",
                  "rawType": "float64",
                  "type": "float"
                },
                {
                  "name": "pixel596",
                  "rawType": "float64",
                  "type": "float"
                },
                {
                  "name": "pixel597",
                  "rawType": "float64",
                  "type": "float"
                },
                {
                  "name": "pixel598",
                  "rawType": "float64",
                  "type": "float"
                },
                {
                  "name": "pixel599",
                  "rawType": "float64",
                  "type": "float"
                },
                {
                  "name": "pixel600",
                  "rawType": "float64",
                  "type": "float"
                },
                {
                  "name": "pixel601",
                  "rawType": "float64",
                  "type": "float"
                },
                {
                  "name": "pixel602",
                  "rawType": "float64",
                  "type": "float"
                },
                {
                  "name": "pixel603",
                  "rawType": "float64",
                  "type": "float"
                },
                {
                  "name": "pixel604",
                  "rawType": "float64",
                  "type": "float"
                },
                {
                  "name": "pixel605",
                  "rawType": "float64",
                  "type": "float"
                },
                {
                  "name": "pixel606",
                  "rawType": "float64",
                  "type": "float"
                },
                {
                  "name": "pixel607",
                  "rawType": "float64",
                  "type": "float"
                },
                {
                  "name": "pixel608",
                  "rawType": "float64",
                  "type": "float"
                },
                {
                  "name": "pixel609",
                  "rawType": "float64",
                  "type": "float"
                },
                {
                  "name": "pixel610",
                  "rawType": "float64",
                  "type": "float"
                },
                {
                  "name": "pixel611",
                  "rawType": "float64",
                  "type": "float"
                },
                {
                  "name": "pixel612",
                  "rawType": "float64",
                  "type": "float"
                },
                {
                  "name": "pixel613",
                  "rawType": "float64",
                  "type": "float"
                },
                {
                  "name": "pixel614",
                  "rawType": "float64",
                  "type": "float"
                },
                {
                  "name": "pixel615",
                  "rawType": "float64",
                  "type": "float"
                },
                {
                  "name": "pixel616",
                  "rawType": "float64",
                  "type": "float"
                },
                {
                  "name": "pixel617",
                  "rawType": "float64",
                  "type": "float"
                },
                {
                  "name": "pixel618",
                  "rawType": "float64",
                  "type": "float"
                },
                {
                  "name": "pixel619",
                  "rawType": "float64",
                  "type": "float"
                },
                {
                  "name": "pixel620",
                  "rawType": "float64",
                  "type": "float"
                },
                {
                  "name": "pixel621",
                  "rawType": "float64",
                  "type": "float"
                },
                {
                  "name": "pixel622",
                  "rawType": "float64",
                  "type": "float"
                },
                {
                  "name": "pixel623",
                  "rawType": "float64",
                  "type": "float"
                },
                {
                  "name": "pixel624",
                  "rawType": "float64",
                  "type": "float"
                },
                {
                  "name": "pixel625",
                  "rawType": "float64",
                  "type": "float"
                },
                {
                  "name": "pixel626",
                  "rawType": "float64",
                  "type": "float"
                },
                {
                  "name": "pixel627",
                  "rawType": "float64",
                  "type": "float"
                },
                {
                  "name": "pixel628",
                  "rawType": "float64",
                  "type": "float"
                },
                {
                  "name": "pixel629",
                  "rawType": "float64",
                  "type": "float"
                },
                {
                  "name": "pixel630",
                  "rawType": "float64",
                  "type": "float"
                },
                {
                  "name": "pixel631",
                  "rawType": "float64",
                  "type": "float"
                },
                {
                  "name": "pixel632",
                  "rawType": "float64",
                  "type": "float"
                },
                {
                  "name": "pixel633",
                  "rawType": "float64",
                  "type": "float"
                },
                {
                  "name": "pixel634",
                  "rawType": "float64",
                  "type": "float"
                },
                {
                  "name": "pixel635",
                  "rawType": "float64",
                  "type": "float"
                },
                {
                  "name": "pixel636",
                  "rawType": "float64",
                  "type": "float"
                },
                {
                  "name": "pixel637",
                  "rawType": "float64",
                  "type": "float"
                },
                {
                  "name": "pixel638",
                  "rawType": "float64",
                  "type": "float"
                },
                {
                  "name": "pixel639",
                  "rawType": "float64",
                  "type": "float"
                },
                {
                  "name": "pixel640",
                  "rawType": "float64",
                  "type": "float"
                },
                {
                  "name": "pixel641",
                  "rawType": "float64",
                  "type": "float"
                },
                {
                  "name": "pixel642",
                  "rawType": "float64",
                  "type": "float"
                },
                {
                  "name": "pixel643",
                  "rawType": "float64",
                  "type": "float"
                },
                {
                  "name": "pixel644",
                  "rawType": "float64",
                  "type": "float"
                },
                {
                  "name": "pixel645",
                  "rawType": "float64",
                  "type": "float"
                },
                {
                  "name": "pixel646",
                  "rawType": "float64",
                  "type": "float"
                },
                {
                  "name": "pixel647",
                  "rawType": "float64",
                  "type": "float"
                },
                {
                  "name": "pixel648",
                  "rawType": "float64",
                  "type": "float"
                },
                {
                  "name": "pixel649",
                  "rawType": "float64",
                  "type": "float"
                },
                {
                  "name": "pixel650",
                  "rawType": "float64",
                  "type": "float"
                },
                {
                  "name": "pixel651",
                  "rawType": "float64",
                  "type": "float"
                },
                {
                  "name": "pixel652",
                  "rawType": "float64",
                  "type": "float"
                },
                {
                  "name": "pixel653",
                  "rawType": "float64",
                  "type": "float"
                },
                {
                  "name": "pixel654",
                  "rawType": "float64",
                  "type": "float"
                },
                {
                  "name": "pixel655",
                  "rawType": "float64",
                  "type": "float"
                },
                {
                  "name": "pixel656",
                  "rawType": "float64",
                  "type": "float"
                },
                {
                  "name": "pixel657",
                  "rawType": "float64",
                  "type": "float"
                },
                {
                  "name": "pixel658",
                  "rawType": "float64",
                  "type": "float"
                },
                {
                  "name": "pixel659",
                  "rawType": "float64",
                  "type": "float"
                },
                {
                  "name": "pixel660",
                  "rawType": "float64",
                  "type": "float"
                },
                {
                  "name": "pixel661",
                  "rawType": "float64",
                  "type": "float"
                },
                {
                  "name": "pixel662",
                  "rawType": "float64",
                  "type": "float"
                },
                {
                  "name": "pixel663",
                  "rawType": "float64",
                  "type": "float"
                },
                {
                  "name": "pixel664",
                  "rawType": "float64",
                  "type": "float"
                },
                {
                  "name": "pixel665",
                  "rawType": "float64",
                  "type": "float"
                },
                {
                  "name": "pixel666",
                  "rawType": "float64",
                  "type": "float"
                },
                {
                  "name": "pixel667",
                  "rawType": "float64",
                  "type": "float"
                },
                {
                  "name": "pixel668",
                  "rawType": "float64",
                  "type": "float"
                },
                {
                  "name": "pixel669",
                  "rawType": "float64",
                  "type": "float"
                },
                {
                  "name": "pixel670",
                  "rawType": "float64",
                  "type": "float"
                },
                {
                  "name": "pixel671",
                  "rawType": "float64",
                  "type": "float"
                },
                {
                  "name": "pixel672",
                  "rawType": "float64",
                  "type": "float"
                },
                {
                  "name": "pixel673",
                  "rawType": "float64",
                  "type": "float"
                },
                {
                  "name": "pixel674",
                  "rawType": "float64",
                  "type": "float"
                },
                {
                  "name": "pixel675",
                  "rawType": "float64",
                  "type": "float"
                },
                {
                  "name": "pixel676",
                  "rawType": "float64",
                  "type": "float"
                },
                {
                  "name": "pixel677",
                  "rawType": "float64",
                  "type": "float"
                },
                {
                  "name": "pixel678",
                  "rawType": "float64",
                  "type": "float"
                },
                {
                  "name": "pixel679",
                  "rawType": "float64",
                  "type": "float"
                },
                {
                  "name": "pixel680",
                  "rawType": "float64",
                  "type": "float"
                },
                {
                  "name": "pixel681",
                  "rawType": "float64",
                  "type": "float"
                },
                {
                  "name": "pixel682",
                  "rawType": "float64",
                  "type": "float"
                },
                {
                  "name": "pixel683",
                  "rawType": "float64",
                  "type": "float"
                },
                {
                  "name": "pixel684",
                  "rawType": "float64",
                  "type": "float"
                },
                {
                  "name": "pixel685",
                  "rawType": "float64",
                  "type": "float"
                },
                {
                  "name": "pixel686",
                  "rawType": "float64",
                  "type": "float"
                },
                {
                  "name": "pixel687",
                  "rawType": "float64",
                  "type": "float"
                },
                {
                  "name": "pixel688",
                  "rawType": "float64",
                  "type": "float"
                },
                {
                  "name": "pixel689",
                  "rawType": "float64",
                  "type": "float"
                },
                {
                  "name": "pixel690",
                  "rawType": "float64",
                  "type": "float"
                },
                {
                  "name": "pixel691",
                  "rawType": "float64",
                  "type": "float"
                },
                {
                  "name": "pixel692",
                  "rawType": "float64",
                  "type": "float"
                },
                {
                  "name": "pixel693",
                  "rawType": "float64",
                  "type": "float"
                },
                {
                  "name": "pixel694",
                  "rawType": "float64",
                  "type": "float"
                },
                {
                  "name": "pixel695",
                  "rawType": "float64",
                  "type": "float"
                },
                {
                  "name": "pixel696",
                  "rawType": "float64",
                  "type": "float"
                },
                {
                  "name": "pixel697",
                  "rawType": "float64",
                  "type": "float"
                },
                {
                  "name": "pixel698",
                  "rawType": "float64",
                  "type": "float"
                },
                {
                  "name": "pixel699",
                  "rawType": "float64",
                  "type": "float"
                },
                {
                  "name": "pixel700",
                  "rawType": "float64",
                  "type": "float"
                },
                {
                  "name": "pixel701",
                  "rawType": "float64",
                  "type": "float"
                },
                {
                  "name": "pixel702",
                  "rawType": "float64",
                  "type": "float"
                },
                {
                  "name": "pixel703",
                  "rawType": "float64",
                  "type": "float"
                },
                {
                  "name": "pixel704",
                  "rawType": "float64",
                  "type": "float"
                },
                {
                  "name": "pixel705",
                  "rawType": "float64",
                  "type": "float"
                },
                {
                  "name": "pixel706",
                  "rawType": "float64",
                  "type": "float"
                },
                {
                  "name": "pixel707",
                  "rawType": "float64",
                  "type": "float"
                },
                {
                  "name": "pixel708",
                  "rawType": "float64",
                  "type": "float"
                },
                {
                  "name": "pixel709",
                  "rawType": "float64",
                  "type": "float"
                },
                {
                  "name": "pixel710",
                  "rawType": "float64",
                  "type": "float"
                },
                {
                  "name": "pixel711",
                  "rawType": "float64",
                  "type": "float"
                },
                {
                  "name": "pixel712",
                  "rawType": "float64",
                  "type": "float"
                },
                {
                  "name": "pixel713",
                  "rawType": "float64",
                  "type": "float"
                },
                {
                  "name": "pixel714",
                  "rawType": "float64",
                  "type": "float"
                },
                {
                  "name": "pixel715",
                  "rawType": "float64",
                  "type": "float"
                },
                {
                  "name": "pixel716",
                  "rawType": "float64",
                  "type": "float"
                },
                {
                  "name": "pixel717",
                  "rawType": "float64",
                  "type": "float"
                },
                {
                  "name": "pixel718",
                  "rawType": "float64",
                  "type": "float"
                },
                {
                  "name": "pixel719",
                  "rawType": "float64",
                  "type": "float"
                },
                {
                  "name": "pixel720",
                  "rawType": "float64",
                  "type": "float"
                },
                {
                  "name": "pixel721",
                  "rawType": "float64",
                  "type": "float"
                },
                {
                  "name": "pixel722",
                  "rawType": "float64",
                  "type": "float"
                },
                {
                  "name": "pixel723",
                  "rawType": "float64",
                  "type": "float"
                },
                {
                  "name": "pixel724",
                  "rawType": "float64",
                  "type": "float"
                },
                {
                  "name": "pixel725",
                  "rawType": "float64",
                  "type": "float"
                },
                {
                  "name": "pixel726",
                  "rawType": "float64",
                  "type": "float"
                },
                {
                  "name": "pixel727",
                  "rawType": "float64",
                  "type": "float"
                },
                {
                  "name": "pixel728",
                  "rawType": "float64",
                  "type": "float"
                },
                {
                  "name": "pixel729",
                  "rawType": "float64",
                  "type": "float"
                },
                {
                  "name": "pixel730",
                  "rawType": "float64",
                  "type": "float"
                },
                {
                  "name": "pixel731",
                  "rawType": "float64",
                  "type": "float"
                },
                {
                  "name": "pixel732",
                  "rawType": "float64",
                  "type": "float"
                },
                {
                  "name": "pixel733",
                  "rawType": "float64",
                  "type": "float"
                },
                {
                  "name": "pixel734",
                  "rawType": "float64",
                  "type": "float"
                },
                {
                  "name": "pixel735",
                  "rawType": "float64",
                  "type": "float"
                },
                {
                  "name": "pixel736",
                  "rawType": "float64",
                  "type": "float"
                },
                {
                  "name": "pixel737",
                  "rawType": "float64",
                  "type": "float"
                },
                {
                  "name": "pixel738",
                  "rawType": "float64",
                  "type": "float"
                },
                {
                  "name": "pixel739",
                  "rawType": "float64",
                  "type": "float"
                },
                {
                  "name": "pixel740",
                  "rawType": "float64",
                  "type": "float"
                },
                {
                  "name": "pixel741",
                  "rawType": "float64",
                  "type": "float"
                },
                {
                  "name": "pixel742",
                  "rawType": "float64",
                  "type": "float"
                },
                {
                  "name": "pixel743",
                  "rawType": "float64",
                  "type": "float"
                },
                {
                  "name": "pixel744",
                  "rawType": "float64",
                  "type": "float"
                },
                {
                  "name": "pixel745",
                  "rawType": "float64",
                  "type": "float"
                },
                {
                  "name": "pixel746",
                  "rawType": "float64",
                  "type": "float"
                },
                {
                  "name": "pixel747",
                  "rawType": "float64",
                  "type": "float"
                },
                {
                  "name": "pixel748",
                  "rawType": "float64",
                  "type": "float"
                },
                {
                  "name": "pixel749",
                  "rawType": "float64",
                  "type": "float"
                },
                {
                  "name": "pixel750",
                  "rawType": "float64",
                  "type": "float"
                },
                {
                  "name": "pixel751",
                  "rawType": "float64",
                  "type": "float"
                },
                {
                  "name": "pixel752",
                  "rawType": "float64",
                  "type": "float"
                },
                {
                  "name": "pixel753",
                  "rawType": "float64",
                  "type": "float"
                },
                {
                  "name": "pixel754",
                  "rawType": "float64",
                  "type": "float"
                },
                {
                  "name": "pixel755",
                  "rawType": "float64",
                  "type": "float"
                },
                {
                  "name": "pixel756",
                  "rawType": "float64",
                  "type": "float"
                },
                {
                  "name": "pixel757",
                  "rawType": "float64",
                  "type": "float"
                },
                {
                  "name": "pixel758",
                  "rawType": "float64",
                  "type": "float"
                },
                {
                  "name": "pixel759",
                  "rawType": "float64",
                  "type": "float"
                },
                {
                  "name": "pixel760",
                  "rawType": "float64",
                  "type": "float"
                },
                {
                  "name": "pixel761",
                  "rawType": "float64",
                  "type": "float"
                },
                {
                  "name": "pixel762",
                  "rawType": "float64",
                  "type": "float"
                },
                {
                  "name": "pixel763",
                  "rawType": "float64",
                  "type": "float"
                },
                {
                  "name": "pixel764",
                  "rawType": "float64",
                  "type": "float"
                },
                {
                  "name": "pixel765",
                  "rawType": "float64",
                  "type": "float"
                },
                {
                  "name": "pixel766",
                  "rawType": "float64",
                  "type": "float"
                },
                {
                  "name": "pixel767",
                  "rawType": "float64",
                  "type": "float"
                },
                {
                  "name": "pixel768",
                  "rawType": "float64",
                  "type": "float"
                },
                {
                  "name": "pixel769",
                  "rawType": "float64",
                  "type": "float"
                },
                {
                  "name": "pixel770",
                  "rawType": "float64",
                  "type": "float"
                },
                {
                  "name": "pixel771",
                  "rawType": "float64",
                  "type": "float"
                },
                {
                  "name": "pixel772",
                  "rawType": "float64",
                  "type": "float"
                },
                {
                  "name": "pixel773",
                  "rawType": "float64",
                  "type": "float"
                },
                {
                  "name": "pixel774",
                  "rawType": "float64",
                  "type": "float"
                },
                {
                  "name": "pixel775",
                  "rawType": "float64",
                  "type": "float"
                },
                {
                  "name": "pixel776",
                  "rawType": "float64",
                  "type": "float"
                },
                {
                  "name": "pixel777",
                  "rawType": "float64",
                  "type": "float"
                },
                {
                  "name": "pixel778",
                  "rawType": "float64",
                  "type": "float"
                },
                {
                  "name": "pixel779",
                  "rawType": "float64",
                  "type": "float"
                },
                {
                  "name": "pixel780",
                  "rawType": "float64",
                  "type": "float"
                },
                {
                  "name": "pixel781",
                  "rawType": "float64",
                  "type": "float"
                },
                {
                  "name": "pixel782",
                  "rawType": "float64",
                  "type": "float"
                },
                {
                  "name": "pixel783",
                  "rawType": "float64",
                  "type": "float"
                },
                {
                  "name": "pixel784",
                  "rawType": "float64",
                  "type": "float"
                }
              ],
              "ref": "f618d08a-d918-45e8-aa1c-9cc0c298a18d",
              "rows": [
                [
                  "0",
                  "0.0",
                  "0.0",
                  "0.0",
                  "0.0",
                  "0.0",
                  "0.0",
                  "0.0",
                  "0.0",
                  "0.0",
                  "0.0",
                  "0.0",
                  "0.0",
                  "0.0",
                  "0.0",
                  "0.0",
                  "0.0",
                  "0.0",
                  "0.0",
                  "0.0",
                  "0.0",
                  "0.0",
                  "0.0",
                  "0.0",
                  "0.0",
                  "0.0",
                  "0.0",
                  "0.0",
                  "0.0",
                  "0.0",
                  "0.0",
                  "0.0",
                  "0.0",
                  "0.0",
                  "0.0",
                  "0.0",
                  "0.0",
                  "0.0",
                  "0.0",
                  "0.0",
                  "0.0",
                  "0.0",
                  "0.0",
                  "0.0",
                  "0.0",
                  "0.0",
                  "0.0",
                  "0.0",
                  "0.0",
                  "0.0",
                  "0.0",
                  "0.0",
                  "0.0",
                  "0.0",
                  "0.0",
                  "0.0",
                  "0.0",
                  "0.0",
                  "0.0",
                  "0.0",
                  "0.0",
                  "0.0",
                  "0.0",
                  "0.0",
                  "0.0",
                  "0.0",
                  "0.0",
                  "0.0",
                  "0.0",
                  "0.0",
                  "0.0",
                  "0.0",
                  "0.0",
                  "0.0",
                  "0.0",
                  "0.0",
                  "0.0",
                  "0.0",
                  "0.0",
                  "0.0",
                  "0.0",
                  "0.0",
                  "0.0",
                  "0.0",
                  "0.0",
                  "0.0",
                  "0.0",
                  "0.0",
                  "0.0",
                  "0.0",
                  "0.0",
                  "0.0",
                  "0.0",
                  "0.0",
                  "0.0",
                  "0.0",
                  "0.0",
                  "0.0",
                  "0.0",
                  "0.0",
                  "0.0",
                  "0.0",
                  "0.0",
                  "0.0",
                  "0.0",
                  "0.0",
                  "0.0",
                  "0.0",
                  "0.0",
                  "0.0",
                  "0.0",
                  "0.0",
                  "0.0",
                  "0.0",
                  "0.0",
                  "0.0",
                  "0.0",
                  "0.0",
                  "0.0",
                  "0.0",
                  "0.0",
                  "0.0",
                  "0.0",
                  "0.0",
                  "0.0",
                  "0.0",
                  "0.0",
                  "0.0",
                  "0.0",
                  "0.0",
                  "0.0",
                  "0.0",
                  "0.0",
                  "0.0",
                  "0.0",
                  "0.0",
                  "0.0",
                  "0.0",
                  "0.0",
                  "0.0",
                  "0.0",
                  "0.0",
                  "0.0",
                  "0.0",
                  "0.0",
                  "0.0",
                  "0.0",
                  "0.0",
                  "0.0",
                  "0.0",
                  "0.0",
                  "0.0",
                  "0.0",
                  "3.0",
                  "18.0",
                  "18.0",
                  "18.0",
                  "126.0",
                  "136.0",
                  "175.0",
                  "26.0",
                  "166.0",
                  "255.0",
                  "247.0",
                  "127.0",
                  "0.0",
                  "0.0",
                  "0.0",
                  "0.0",
                  "0.0",
                  "0.0",
                  "0.0",
                  "0.0",
                  "0.0",
                  "0.0",
                  "0.0",
                  "0.0",
                  "30.0",
                  "36.0",
                  "94.0",
                  "154.0",
                  "170.0",
                  "253.0",
                  "253.0",
                  "253.0",
                  "253.0",
                  "253.0",
                  "225.0",
                  "172.0",
                  "253.0",
                  "242.0",
                  "195.0",
                  "64.0",
                  "0.0",
                  "0.0",
                  "0.0",
                  "0.0",
                  "0.0",
                  "0.0",
                  "0.0",
                  "0.0",
                  "0.0",
                  "0.0",
                  "0.0",
                  "49.0",
                  "238.0",
                  "253.0",
                  "253.0",
                  "253.0",
                  "253.0",
                  "253.0",
                  "253.0",
                  "253.0",
                  "253.0",
                  "251.0",
                  "93.0",
                  "82.0",
                  "82.0",
                  "56.0",
                  "39.0",
                  "0.0",
                  "0.0",
                  "0.0",
                  "0.0",
                  "0.0",
                  "0.0",
                  "0.0",
                  "0.0",
                  "0.0",
                  "0.0",
                  "0.0",
                  "0.0",
                  "18.0",
                  "219.0",
                  "253.0",
                  "253.0",
                  "253.0",
                  "253.0",
                  "253.0",
                  "198.0",
                  "182.0",
                  "247.0",
                  "241.0",
                  "0.0",
                  "0.0",
                  "0.0",
                  "0.0",
                  "0.0",
                  "0.0",
                  "0.0",
                  "0.0",
                  "0.0",
                  "0.0",
                  "0.0",
                  "0.0",
                  "0.0",
                  "0.0",
                  "0.0",
                  "0.0",
                  "0.0",
                  "0.0",
                  "80.0",
                  "156.0",
                  "107.0",
                  "253.0",
                  "253.0",
                  "205.0",
                  "11.0",
                  "0.0",
                  "43.0",
                  "154.0",
                  "0.0",
                  "0.0",
                  "0.0",
                  "0.0",
                  "0.0",
                  "0.0",
                  "0.0",
                  "0.0",
                  "0.0",
                  "0.0",
                  "0.0",
                  "0.0",
                  "0.0",
                  "0.0",
                  "0.0",
                  "0.0",
                  "0.0",
                  "0.0",
                  "0.0",
                  "14.0",
                  "1.0",
                  "154.0",
                  "253.0",
                  "90.0",
                  "0.0",
                  "0.0",
                  "0.0",
                  "0.0",
                  "0.0",
                  "0.0",
                  "0.0",
                  "0.0",
                  "0.0",
                  "0.0",
                  "0.0",
                  "0.0",
                  "0.0",
                  "0.0",
                  "0.0",
                  "0.0",
                  "0.0",
                  "0.0",
                  "0.0",
                  "0.0",
                  "0.0",
                  "0.0",
                  "0.0",
                  "0.0",
                  "0.0",
                  "139.0",
                  "253.0",
                  "190.0",
                  "2.0",
                  "0.0",
                  "0.0",
                  "0.0",
                  "0.0",
                  "0.0",
                  "0.0",
                  "0.0",
                  "0.0",
                  "0.0",
                  "0.0",
                  "0.0",
                  "0.0",
                  "0.0",
                  "0.0",
                  "0.0",
                  "0.0",
                  "0.0",
                  "0.0",
                  "0.0",
                  "0.0",
                  "0.0",
                  "0.0",
                  "0.0",
                  "0.0",
                  "11.0",
                  "190.0",
                  "253.0",
                  "70.0",
                  "0.0",
                  "0.0",
                  "0.0",
                  "0.0",
                  "0.0",
                  "0.0",
                  "0.0",
                  "0.0",
                  "0.0",
                  "0.0",
                  "0.0",
                  "0.0",
                  "0.0",
                  "0.0",
                  "0.0",
                  "0.0",
                  "0.0",
                  "0.0",
                  "0.0",
                  "0.0",
                  "0.0",
                  "0.0",
                  "0.0",
                  "0.0",
                  "0.0",
                  "35.0",
                  "241.0",
                  "225.0",
                  "160.0",
                  "108.0",
                  "1.0",
                  "0.0",
                  "0.0",
                  "0.0",
                  "0.0",
                  "0.0",
                  "0.0",
                  "0.0",
                  "0.0",
                  "0.0",
                  "0.0",
                  "0.0",
                  "0.0",
                  "0.0",
                  "0.0",
                  "0.0",
                  "0.0",
                  "0.0",
                  "0.0",
                  "0.0",
                  "0.0",
                  "0.0",
                  "0.0",
                  "0.0",
                  "81.0",
                  "240.0",
                  "253.0",
                  "253.0",
                  "119.0",
                  "25.0",
                  "0.0",
                  "0.0",
                  "0.0",
                  "0.0",
                  "0.0",
                  "0.0",
                  "0.0",
                  "0.0",
                  "0.0",
                  "0.0",
                  "0.0",
                  "0.0",
                  "0.0",
                  "0.0",
                  "0.0",
                  "0.0",
                  "0.0",
                  "0.0",
                  "0.0",
                  "0.0",
                  "0.0",
                  "0.0",
                  "0.0",
                  "45.0",
                  "186.0",
                  "253.0",
                  "253.0",
                  "150.0",
                  "27.0",
                  "0.0",
                  "0.0",
                  "0.0",
                  "0.0",
                  "0.0",
                  "0.0",
                  "0.0",
                  "0.0",
                  "0.0",
                  "0.0",
                  "0.0",
                  "0.0",
                  "0.0",
                  "0.0",
                  "0.0",
                  "0.0",
                  "0.0",
                  "0.0",
                  "0.0",
                  "0.0",
                  "0.0",
                  "0.0",
                  "0.0",
                  "16.0",
                  "93.0",
                  "252.0",
                  "253.0",
                  "187.0",
                  "0.0",
                  "0.0",
                  "0.0",
                  "0.0",
                  "0.0",
                  "0.0",
                  "0.0",
                  "0.0",
                  "0.0",
                  "0.0",
                  "0.0",
                  "0.0",
                  "0.0",
                  "0.0",
                  "0.0",
                  "0.0",
                  "0.0",
                  "0.0",
                  "0.0",
                  "0.0",
                  "0.0",
                  "0.0",
                  "0.0",
                  "0.0",
                  "0.0",
                  "249.0",
                  "253.0",
                  "249.0",
                  "64.0",
                  "0.0",
                  "0.0",
                  "0.0",
                  "0.0",
                  "0.0",
                  "0.0",
                  "0.0",
                  "0.0",
                  "0.0",
                  "0.0",
                  "0.0",
                  "0.0",
                  "0.0",
                  "0.0",
                  "0.0",
                  "0.0",
                  "0.0",
                  "0.0",
                  "0.0",
                  "0.0",
                  "0.0",
                  "46.0",
                  "130.0",
                  "183.0",
                  "253.0",
                  "253.0",
                  "207.0",
                  "2.0",
                  "0.0",
                  "0.0",
                  "0.0",
                  "0.0",
                  "0.0",
                  "0.0",
                  "0.0",
                  "0.0",
                  "0.0",
                  "0.0",
                  "0.0",
                  "0.0",
                  "0.0",
                  "0.0",
                  "0.0",
                  "0.0",
                  "0.0",
                  "0.0",
                  "0.0",
                  "39.0",
                  "148.0",
                  "229.0",
                  "253.0",
                  "253.0",
                  "253.0",
                  "250.0",
                  "182.0",
                  "0.0",
                  "0.0",
                  "0.0",
                  "0.0",
                  "0.0",
                  "0.0",
                  "0.0",
                  "0.0",
                  "0.0",
                  "0.0",
                  "0.0",
                  "0.0",
                  "0.0",
                  "0.0",
                  "0.0",
                  "0.0",
                  "0.0",
                  "0.0",
                  "24.0",
                  "114.0",
                  "221.0",
                  "253.0",
                  "253.0",
                  "253.0",
                  "253.0",
                  "201.0",
                  "78.0",
                  "0.0",
                  "0.0",
                  "0.0",
                  "0.0",
                  "0.0",
                  "0.0",
                  "0.0",
                  "0.0",
                  "0.0",
                  "0.0",
                  "0.0",
                  "0.0",
                  "0.0",
                  "0.0",
                  "0.0",
                  "0.0",
                  "0.0",
                  "23.0",
                  "66.0",
                  "213.0",
                  "253.0",
                  "253.0",
                  "253.0",
                  "253.0",
                  "198.0",
                  "81.0",
                  "2.0",
                  "0.0",
                  "0.0",
                  "0.0",
                  "0.0",
                  "0.0",
                  "0.0",
                  "0.0",
                  "0.0",
                  "0.0",
                  "0.0",
                  "0.0",
                  "0.0",
                  "0.0",
                  "0.0",
                  "0.0",
                  "0.0",
                  "18.0",
                  "171.0",
                  "219.0",
                  "253.0",
                  "253.0",
                  "253.0",
                  "253.0",
                  "195.0",
                  "80.0",
                  "9.0",
                  "0.0",
                  "0.0",
                  "0.0",
                  "0.0",
                  "0.0",
                  "0.0",
                  "0.0",
                  "0.0",
                  "0.0",
                  "0.0",
                  "0.0",
                  "0.0",
                  "0.0",
                  "0.0",
                  "0.0",
                  "0.0",
                  "55.0",
                  "172.0",
                  "226.0",
                  "253.0",
                  "253.0",
                  "253.0",
                  "253.0",
                  "244.0",
                  "133.0",
                  "11.0",
                  "0.0",
                  "0.0",
                  "0.0",
                  "0.0",
                  "0.0",
                  "0.0",
                  "0.0",
                  "0.0",
                  "0.0",
                  "0.0",
                  "0.0",
                  "0.0",
                  "0.0",
                  "0.0",
                  "0.0",
                  "0.0",
                  "0.0",
                  "0.0",
                  "136.0",
                  "253.0",
                  "253.0",
                  "253.0",
                  "212.0",
                  "135.0",
                  "132.0",
                  "16.0",
                  "0.0",
                  "0.0",
                  "0.0",
                  "0.0",
                  "0.0",
                  "0.0",
                  "0.0",
                  "0.0",
                  "0.0",
                  "0.0",
                  "0.0",
                  "0.0",
                  "0.0",
                  "0.0",
                  "0.0",
                  "0.0",
                  "0.0",
                  "0.0",
                  "0.0",
                  "0.0",
                  "0.0",
                  "0.0",
                  "0.0",
                  "0.0",
                  "0.0",
                  "0.0",
                  "0.0",
                  "0.0",
                  "0.0",
                  "0.0",
                  "0.0",
                  "0.0",
                  "0.0",
                  "0.0",
                  "0.0",
                  "0.0",
                  "0.0",
                  "0.0",
                  "0.0",
                  "0.0",
                  "0.0",
                  "0.0",
                  "0.0",
                  "0.0",
                  "0.0",
                  "0.0",
                  "0.0",
                  "0.0",
                  "0.0",
                  "0.0",
                  "0.0",
                  "0.0",
                  "0.0",
                  "0.0",
                  "0.0",
                  "0.0",
                  "0.0",
                  "0.0",
                  "0.0",
                  "0.0",
                  "0.0",
                  "0.0",
                  "0.0",
                  "0.0",
                  "0.0",
                  "0.0",
                  "0.0",
                  "0.0",
                  "0.0",
                  "0.0",
                  "0.0",
                  "0.0",
                  "0.0",
                  "0.0",
                  "0.0",
                  "0.0",
                  "0.0",
                  "0.0",
                  "0.0",
                  "0.0",
                  "0.0",
                  "0.0",
                  "0.0",
                  "0.0",
                  "0.0",
                  "0.0",
                  "0.0",
                  "0.0",
                  "0.0",
                  "0.0",
                  "0.0",
                  "0.0",
                  "0.0",
                  "0.0",
                  "0.0",
                  "0.0",
                  "0.0",
                  "0.0",
                  "0.0",
                  "0.0"
                ],
                [
                  "1",
                  "0.0",
                  "0.0",
                  "0.0",
                  "0.0",
                  "0.0",
                  "0.0",
                  "0.0",
                  "0.0",
                  "0.0",
                  "0.0",
                  "0.0",
                  "0.0",
                  "0.0",
                  "0.0",
                  "0.0",
                  "0.0",
                  "0.0",
                  "0.0",
                  "0.0",
                  "0.0",
                  "0.0",
                  "0.0",
                  "0.0",
                  "0.0",
                  "0.0",
                  "0.0",
                  "0.0",
                  "0.0",
                  "0.0",
                  "0.0",
                  "0.0",
                  "0.0",
                  "0.0",
                  "0.0",
                  "0.0",
                  "0.0",
                  "0.0",
                  "0.0",
                  "0.0",
                  "0.0",
                  "0.0",
                  "0.0",
                  "0.0",
                  "0.0",
                  "0.0",
                  "0.0",
                  "0.0",
                  "0.0",
                  "0.0",
                  "0.0",
                  "0.0",
                  "0.0",
                  "0.0",
                  "0.0",
                  "0.0",
                  "0.0",
                  "0.0",
                  "0.0",
                  "0.0",
                  "0.0",
                  "0.0",
                  "0.0",
                  "0.0",
                  "0.0",
                  "0.0",
                  "0.0",
                  "0.0",
                  "0.0",
                  "0.0",
                  "0.0",
                  "0.0",
                  "0.0",
                  "0.0",
                  "0.0",
                  "0.0",
                  "0.0",
                  "0.0",
                  "0.0",
                  "0.0",
                  "0.0",
                  "0.0",
                  "0.0",
                  "0.0",
                  "0.0",
                  "0.0",
                  "0.0",
                  "0.0",
                  "0.0",
                  "0.0",
                  "0.0",
                  "0.0",
                  "0.0",
                  "0.0",
                  "0.0",
                  "0.0",
                  "0.0",
                  "0.0",
                  "0.0",
                  "0.0",
                  "0.0",
                  "0.0",
                  "0.0",
                  "0.0",
                  "0.0",
                  "0.0",
                  "0.0",
                  "0.0",
                  "0.0",
                  "0.0",
                  "0.0",
                  "0.0",
                  "0.0",
                  "0.0",
                  "0.0",
                  "0.0",
                  "0.0",
                  "0.0",
                  "0.0",
                  "0.0",
                  "0.0",
                  "0.0",
                  "0.0",
                  "0.0",
                  "0.0",
                  "0.0",
                  "0.0",
                  "0.0",
                  "51.0",
                  "159.0",
                  "253.0",
                  "159.0",
                  "50.0",
                  "0.0",
                  "0.0",
                  "0.0",
                  "0.0",
                  "0.0",
                  "0.0",
                  "0.0",
                  "0.0",
                  "0.0",
                  "0.0",
                  "0.0",
                  "0.0",
                  "0.0",
                  "0.0",
                  "0.0",
                  "0.0",
                  "0.0",
                  "0.0",
                  "0.0",
                  "0.0",
                  "0.0",
                  "0.0",
                  "48.0",
                  "238.0",
                  "252.0",
                  "252.0",
                  "252.0",
                  "237.0",
                  "0.0",
                  "0.0",
                  "0.0",
                  "0.0",
                  "0.0",
                  "0.0",
                  "0.0",
                  "0.0",
                  "0.0",
                  "0.0",
                  "0.0",
                  "0.0",
                  "0.0",
                  "0.0",
                  "0.0",
                  "0.0",
                  "0.0",
                  "0.0",
                  "0.0",
                  "0.0",
                  "0.0",
                  "54.0",
                  "227.0",
                  "253.0",
                  "252.0",
                  "239.0",
                  "233.0",
                  "252.0",
                  "57.0",
                  "6.0",
                  "0.0",
                  "0.0",
                  "0.0",
                  "0.0",
                  "0.0",
                  "0.0",
                  "0.0",
                  "0.0",
                  "0.0",
                  "0.0",
                  "0.0",
                  "0.0",
                  "0.0",
                  "0.0",
                  "0.0",
                  "0.0",
                  "0.0",
                  "10.0",
                  "60.0",
                  "224.0",
                  "252.0",
                  "253.0",
                  "252.0",
                  "202.0",
                  "84.0",
                  "252.0",
                  "253.0",
                  "122.0",
                  "0.0",
                  "0.0",
                  "0.0",
                  "0.0",
                  "0.0",
                  "0.0",
                  "0.0",
                  "0.0",
                  "0.0",
                  "0.0",
                  "0.0",
                  "0.0",
                  "0.0",
                  "0.0",
                  "0.0",
                  "0.0",
                  "0.0",
                  "163.0",
                  "252.0",
                  "252.0",
                  "252.0",
                  "253.0",
                  "252.0",
                  "252.0",
                  "96.0",
                  "189.0",
                  "253.0",
                  "167.0",
                  "0.0",
                  "0.0",
                  "0.0",
                  "0.0",
                  "0.0",
                  "0.0",
                  "0.0",
                  "0.0",
                  "0.0",
                  "0.0",
                  "0.0",
                  "0.0",
                  "0.0",
                  "0.0",
                  "0.0",
                  "0.0",
                  "51.0",
                  "238.0",
                  "253.0",
                  "253.0",
                  "190.0",
                  "114.0",
                  "253.0",
                  "228.0",
                  "47.0",
                  "79.0",
                  "255.0",
                  "168.0",
                  "0.0",
                  "0.0",
                  "0.0",
                  "0.0",
                  "0.0",
                  "0.0",
                  "0.0",
                  "0.0",
                  "0.0",
                  "0.0",
                  "0.0",
                  "0.0",
                  "0.0",
                  "0.0",
                  "0.0",
                  "48.0",
                  "238.0",
                  "252.0",
                  "252.0",
                  "179.0",
                  "12.0",
                  "75.0",
                  "121.0",
                  "21.0",
                  "0.0",
                  "0.0",
                  "253.0",
                  "243.0",
                  "50.0",
                  "0.0",
                  "0.0",
                  "0.0",
                  "0.0",
                  "0.0",
                  "0.0",
                  "0.0",
                  "0.0",
                  "0.0",
                  "0.0",
                  "0.0",
                  "0.0",
                  "0.0",
                  "38.0",
                  "165.0",
                  "253.0",
                  "233.0",
                  "208.0",
                  "84.0",
                  "0.0",
                  "0.0",
                  "0.0",
                  "0.0",
                  "0.0",
                  "0.0",
                  "253.0",
                  "252.0",
                  "165.0",
                  "0.0",
                  "0.0",
                  "0.0",
                  "0.0",
                  "0.0",
                  "0.0",
                  "0.0",
                  "0.0",
                  "0.0",
                  "0.0",
                  "0.0",
                  "0.0",
                  "7.0",
                  "178.0",
                  "252.0",
                  "240.0",
                  "71.0",
                  "19.0",
                  "28.0",
                  "0.0",
                  "0.0",
                  "0.0",
                  "0.0",
                  "0.0",
                  "0.0",
                  "253.0",
                  "252.0",
                  "195.0",
                  "0.0",
                  "0.0",
                  "0.0",
                  "0.0",
                  "0.0",
                  "0.0",
                  "0.0",
                  "0.0",
                  "0.0",
                  "0.0",
                  "0.0",
                  "0.0",
                  "57.0",
                  "252.0",
                  "252.0",
                  "63.0",
                  "0.0",
                  "0.0",
                  "0.0",
                  "0.0",
                  "0.0",
                  "0.0",
                  "0.0",
                  "0.0",
                  "0.0",
                  "253.0",
                  "252.0",
                  "195.0",
                  "0.0",
                  "0.0",
                  "0.0",
                  "0.0",
                  "0.0",
                  "0.0",
                  "0.0",
                  "0.0",
                  "0.0",
                  "0.0",
                  "0.0",
                  "0.0",
                  "198.0",
                  "253.0",
                  "190.0",
                  "0.0",
                  "0.0",
                  "0.0",
                  "0.0",
                  "0.0",
                  "0.0",
                  "0.0",
                  "0.0",
                  "0.0",
                  "0.0",
                  "255.0",
                  "253.0",
                  "196.0",
                  "0.0",
                  "0.0",
                  "0.0",
                  "0.0",
                  "0.0",
                  "0.0",
                  "0.0",
                  "0.0",
                  "0.0",
                  "0.0",
                  "0.0",
                  "76.0",
                  "246.0",
                  "252.0",
                  "112.0",
                  "0.0",
                  "0.0",
                  "0.0",
                  "0.0",
                  "0.0",
                  "0.0",
                  "0.0",
                  "0.0",
                  "0.0",
                  "0.0",
                  "253.0",
                  "252.0",
                  "148.0",
                  "0.0",
                  "0.0",
                  "0.0",
                  "0.0",
                  "0.0",
                  "0.0",
                  "0.0",
                  "0.0",
                  "0.0",
                  "0.0",
                  "0.0",
                  "85.0",
                  "252.0",
                  "230.0",
                  "25.0",
                  "0.0",
                  "0.0",
                  "0.0",
                  "0.0",
                  "0.0",
                  "0.0",
                  "0.0",
                  "0.0",
                  "7.0",
                  "135.0",
                  "253.0",
                  "186.0",
                  "12.0",
                  "0.0",
                  "0.0",
                  "0.0",
                  "0.0",
                  "0.0",
                  "0.0",
                  "0.0",
                  "0.0",
                  "0.0",
                  "0.0",
                  "0.0",
                  "85.0",
                  "252.0",
                  "223.0",
                  "0.0",
                  "0.0",
                  "0.0",
                  "0.0",
                  "0.0",
                  "0.0",
                  "0.0",
                  "0.0",
                  "7.0",
                  "131.0",
                  "252.0",
                  "225.0",
                  "71.0",
                  "0.0",
                  "0.0",
                  "0.0",
                  "0.0",
                  "0.0",
                  "0.0",
                  "0.0",
                  "0.0",
                  "0.0",
                  "0.0",
                  "0.0",
                  "0.0",
                  "85.0",
                  "252.0",
                  "145.0",
                  "0.0",
                  "0.0",
                  "0.0",
                  "0.0",
                  "0.0",
                  "0.0",
                  "0.0",
                  "48.0",
                  "165.0",
                  "252.0",
                  "173.0",
                  "0.0",
                  "0.0",
                  "0.0",
                  "0.0",
                  "0.0",
                  "0.0",
                  "0.0",
                  "0.0",
                  "0.0",
                  "0.0",
                  "0.0",
                  "0.0",
                  "0.0",
                  "0.0",
                  "86.0",
                  "253.0",
                  "225.0",
                  "0.0",
                  "0.0",
                  "0.0",
                  "0.0",
                  "0.0",
                  "0.0",
                  "114.0",
                  "238.0",
                  "253.0",
                  "162.0",
                  "0.0",
                  "0.0",
                  "0.0",
                  "0.0",
                  "0.0",
                  "0.0",
                  "0.0",
                  "0.0",
                  "0.0",
                  "0.0",
                  "0.0",
                  "0.0",
                  "0.0",
                  "0.0",
                  "0.0",
                  "85.0",
                  "252.0",
                  "249.0",
                  "146.0",
                  "48.0",
                  "29.0",
                  "85.0",
                  "178.0",
                  "225.0",
                  "253.0",
                  "223.0",
                  "167.0",
                  "56.0",
                  "0.0",
                  "0.0",
                  "0.0",
                  "0.0",
                  "0.0",
                  "0.0",
                  "0.0",
                  "0.0",
                  "0.0",
                  "0.0",
                  "0.0",
                  "0.0",
                  "0.0",
                  "0.0",
                  "0.0",
                  "85.0",
                  "252.0",
                  "252.0",
                  "252.0",
                  "229.0",
                  "215.0",
                  "252.0",
                  "252.0",
                  "252.0",
                  "196.0",
                  "130.0",
                  "0.0",
                  "0.0",
                  "0.0",
                  "0.0",
                  "0.0",
                  "0.0",
                  "0.0",
                  "0.0",
                  "0.0",
                  "0.0",
                  "0.0",
                  "0.0",
                  "0.0",
                  "0.0",
                  "0.0",
                  "0.0",
                  "0.0",
                  "28.0",
                  "199.0",
                  "252.0",
                  "252.0",
                  "253.0",
                  "252.0",
                  "252.0",
                  "233.0",
                  "145.0",
                  "0.0",
                  "0.0",
                  "0.0",
                  "0.0",
                  "0.0",
                  "0.0",
                  "0.0",
                  "0.0",
                  "0.0",
                  "0.0",
                  "0.0",
                  "0.0",
                  "0.0",
                  "0.0",
                  "0.0",
                  "0.0",
                  "0.0",
                  "0.0",
                  "0.0",
                  "0.0",
                  "25.0",
                  "128.0",
                  "252.0",
                  "253.0",
                  "252.0",
                  "141.0",
                  "37.0",
                  "0.0",
                  "0.0",
                  "0.0",
                  "0.0",
                  "0.0",
                  "0.0",
                  "0.0",
                  "0.0",
                  "0.0",
                  "0.0",
                  "0.0",
                  "0.0",
                  "0.0",
                  "0.0",
                  "0.0",
                  "0.0",
                  "0.0",
                  "0.0",
                  "0.0",
                  "0.0",
                  "0.0",
                  "0.0",
                  "0.0",
                  "0.0",
                  "0.0",
                  "0.0",
                  "0.0",
                  "0.0",
                  "0.0",
                  "0.0",
                  "0.0",
                  "0.0",
                  "0.0",
                  "0.0",
                  "0.0",
                  "0.0",
                  "0.0",
                  "0.0",
                  "0.0",
                  "0.0",
                  "0.0",
                  "0.0",
                  "0.0",
                  "0.0",
                  "0.0",
                  "0.0",
                  "0.0",
                  "0.0",
                  "0.0",
                  "0.0",
                  "0.0",
                  "0.0",
                  "0.0",
                  "0.0",
                  "0.0",
                  "0.0",
                  "0.0",
                  "0.0",
                  "0.0",
                  "0.0",
                  "0.0",
                  "0.0",
                  "0.0",
                  "0.0",
                  "0.0",
                  "0.0",
                  "0.0",
                  "0.0",
                  "0.0",
                  "0.0",
                  "0.0",
                  "0.0",
                  "0.0",
                  "0.0",
                  "0.0",
                  "0.0",
                  "0.0",
                  "0.0",
                  "0.0",
                  "0.0",
                  "0.0",
                  "0.0",
                  "0.0",
                  "0.0",
                  "0.0",
                  "0.0",
                  "0.0",
                  "0.0",
                  "0.0",
                  "0.0",
                  "0.0",
                  "0.0",
                  "0.0",
                  "0.0",
                  "0.0",
                  "0.0",
                  "0.0",
                  "0.0",
                  "0.0",
                  "0.0",
                  "0.0",
                  "0.0",
                  "0.0",
                  "0.0",
                  "0.0",
                  "0.0",
                  "0.0",
                  "0.0",
                  "0.0",
                  "0.0",
                  "0.0",
                  "0.0",
                  "0.0",
                  "0.0",
                  "0.0",
                  "0.0",
                  "0.0",
                  "0.0",
                  "0.0",
                  "0.0",
                  "0.0",
                  "0.0",
                  "0.0",
                  "0.0",
                  "0.0",
                  "0.0"
                ],
                [
                  "2",
                  "0.0",
                  "0.0",
                  "0.0",
                  "0.0",
                  "0.0",
                  "0.0",
                  "0.0",
                  "0.0",
                  "0.0",
                  "0.0",
                  "0.0",
                  "0.0",
                  "0.0",
                  "0.0",
                  "0.0",
                  "0.0",
                  "0.0",
                  "0.0",
                  "0.0",
                  "0.0",
                  "0.0",
                  "0.0",
                  "0.0",
                  "0.0",
                  "0.0",
                  "0.0",
                  "0.0",
                  "0.0",
                  "0.0",
                  "0.0",
                  "0.0",
                  "0.0",
                  "0.0",
                  "0.0",
                  "0.0",
                  "0.0",
                  "0.0",
                  "0.0",
                  "0.0",
                  "0.0",
                  "0.0",
                  "0.0",
                  "0.0",
                  "0.0",
                  "0.0",
                  "0.0",
                  "0.0",
                  "0.0",
                  "0.0",
                  "0.0",
                  "0.0",
                  "0.0",
                  "0.0",
                  "0.0",
                  "0.0",
                  "0.0",
                  "0.0",
                  "0.0",
                  "0.0",
                  "0.0",
                  "0.0",
                  "0.0",
                  "0.0",
                  "0.0",
                  "0.0",
                  "0.0",
                  "0.0",
                  "0.0",
                  "0.0",
                  "0.0",
                  "0.0",
                  "0.0",
                  "0.0",
                  "0.0",
                  "0.0",
                  "0.0",
                  "0.0",
                  "0.0",
                  "0.0",
                  "0.0",
                  "0.0",
                  "0.0",
                  "0.0",
                  "0.0",
                  "0.0",
                  "0.0",
                  "0.0",
                  "0.0",
                  "0.0",
                  "0.0",
                  "0.0",
                  "0.0",
                  "0.0",
                  "0.0",
                  "0.0",
                  "0.0",
                  "0.0",
                  "0.0",
                  "0.0",
                  "0.0",
                  "0.0",
                  "0.0",
                  "0.0",
                  "0.0",
                  "0.0",
                  "0.0",
                  "0.0",
                  "0.0",
                  "0.0",
                  "0.0",
                  "0.0",
                  "0.0",
                  "0.0",
                  "0.0",
                  "0.0",
                  "0.0",
                  "0.0",
                  "0.0",
                  "0.0",
                  "0.0",
                  "0.0",
                  "0.0",
                  "0.0",
                  "0.0",
                  "0.0",
                  "0.0",
                  "0.0",
                  "0.0",
                  "0.0",
                  "0.0",
                  "0.0",
                  "0.0",
                  "0.0",
                  "0.0",
                  "0.0",
                  "0.0",
                  "0.0",
                  "0.0",
                  "0.0",
                  "0.0",
                  "0.0",
                  "0.0",
                  "0.0",
                  "0.0",
                  "0.0",
                  "0.0",
                  "0.0",
                  "0.0",
                  "0.0",
                  "0.0",
                  "0.0",
                  "0.0",
                  "0.0",
                  "0.0",
                  "0.0",
                  "0.0",
                  "0.0",
                  "0.0",
                  "0.0",
                  "0.0",
                  "67.0",
                  "232.0",
                  "39.0",
                  "0.0",
                  "0.0",
                  "0.0",
                  "0.0",
                  "0.0",
                  "0.0",
                  "0.0",
                  "0.0",
                  "0.0",
                  "62.0",
                  "81.0",
                  "0.0",
                  "0.0",
                  "0.0",
                  "0.0",
                  "0.0",
                  "0.0",
                  "0.0",
                  "0.0",
                  "0.0",
                  "0.0",
                  "0.0",
                  "0.0",
                  "0.0",
                  "0.0",
                  "120.0",
                  "180.0",
                  "39.0",
                  "0.0",
                  "0.0",
                  "0.0",
                  "0.0",
                  "0.0",
                  "0.0",
                  "0.0",
                  "0.0",
                  "0.0",
                  "126.0",
                  "163.0",
                  "0.0",
                  "0.0",
                  "0.0",
                  "0.0",
                  "0.0",
                  "0.0",
                  "0.0",
                  "0.0",
                  "0.0",
                  "0.0",
                  "0.0",
                  "0.0",
                  "0.0",
                  "2.0",
                  "153.0",
                  "210.0",
                  "40.0",
                  "0.0",
                  "0.0",
                  "0.0",
                  "0.0",
                  "0.0",
                  "0.0",
                  "0.0",
                  "0.0",
                  "0.0",
                  "220.0",
                  "163.0",
                  "0.0",
                  "0.0",
                  "0.0",
                  "0.0",
                  "0.0",
                  "0.0",
                  "0.0",
                  "0.0",
                  "0.0",
                  "0.0",
                  "0.0",
                  "0.0",
                  "0.0",
                  "27.0",
                  "254.0",
                  "162.0",
                  "0.0",
                  "0.0",
                  "0.0",
                  "0.0",
                  "0.0",
                  "0.0",
                  "0.0",
                  "0.0",
                  "0.0",
                  "0.0",
                  "222.0",
                  "163.0",
                  "0.0",
                  "0.0",
                  "0.0",
                  "0.0",
                  "0.0",
                  "0.0",
                  "0.0",
                  "0.0",
                  "0.0",
                  "0.0",
                  "0.0",
                  "0.0",
                  "0.0",
                  "183.0",
                  "254.0",
                  "125.0",
                  "0.0",
                  "0.0",
                  "0.0",
                  "0.0",
                  "0.0",
                  "0.0",
                  "0.0",
                  "0.0",
                  "0.0",
                  "46.0",
                  "245.0",
                  "163.0",
                  "0.0",
                  "0.0",
                  "0.0",
                  "0.0",
                  "0.0",
                  "0.0",
                  "0.0",
                  "0.0",
                  "0.0",
                  "0.0",
                  "0.0",
                  "0.0",
                  "0.0",
                  "198.0",
                  "254.0",
                  "56.0",
                  "0.0",
                  "0.0",
                  "0.0",
                  "0.0",
                  "0.0",
                  "0.0",
                  "0.0",
                  "0.0",
                  "0.0",
                  "120.0",
                  "254.0",
                  "163.0",
                  "0.0",
                  "0.0",
                  "0.0",
                  "0.0",
                  "0.0",
                  "0.0",
                  "0.0",
                  "0.0",
                  "0.0",
                  "0.0",
                  "0.0",
                  "0.0",
                  "23.0",
                  "231.0",
                  "254.0",
                  "29.0",
                  "0.0",
                  "0.0",
                  "0.0",
                  "0.0",
                  "0.0",
                  "0.0",
                  "0.0",
                  "0.0",
                  "0.0",
                  "159.0",
                  "254.0",
                  "120.0",
                  "0.0",
                  "0.0",
                  "0.0",
                  "0.0",
                  "0.0",
                  "0.0",
                  "0.0",
                  "0.0",
                  "0.0",
                  "0.0",
                  "0.0",
                  "0.0",
                  "163.0",
                  "254.0",
                  "216.0",
                  "16.0",
                  "0.0",
                  "0.0",
                  "0.0",
                  "0.0",
                  "0.0",
                  "0.0",
                  "0.0",
                  "0.0",
                  "0.0",
                  "159.0",
                  "254.0",
                  "67.0",
                  "0.0",
                  "0.0",
                  "0.0",
                  "0.0",
                  "0.0",
                  "0.0",
                  "0.0",
                  "0.0",
                  "0.0",
                  "14.0",
                  "86.0",
                  "178.0",
                  "248.0",
                  "254.0",
                  "91.0",
                  "0.0",
                  "0.0",
                  "0.0",
                  "0.0",
                  "0.0",
                  "0.0",
                  "0.0",
                  "0.0",
                  "0.0",
                  "0.0",
                  "159.0",
                  "254.0",
                  "85.0",
                  "0.0",
                  "0.0",
                  "0.0",
                  "47.0",
                  "49.0",
                  "116.0",
                  "144.0",
                  "150.0",
                  "241.0",
                  "243.0",
                  "234.0",
                  "179.0",
                  "241.0",
                  "252.0",
                  "40.0",
                  "0.0",
                  "0.0",
                  "0.0",
                  "0.0",
                  "0.0",
                  "0.0",
                  "0.0",
                  "0.0",
                  "0.0",
                  "0.0",
                  "150.0",
                  "253.0",
                  "237.0",
                  "207.0",
                  "207.0",
                  "207.0",
                  "253.0",
                  "254.0",
                  "250.0",
                  "240.0",
                  "198.0",
                  "143.0",
                  "91.0",
                  "28.0",
                  "5.0",
                  "233.0",
                  "250.0",
                  "0.0",
                  "0.0",
                  "0.0",
                  "0.0",
                  "0.0",
                  "0.0",
                  "0.0",
                  "0.0",
                  "0.0",
                  "0.0",
                  "0.0",
                  "0.0",
                  "119.0",
                  "177.0",
                  "177.0",
                  "177.0",
                  "177.0",
                  "177.0",
                  "98.0",
                  "56.0",
                  "0.0",
                  "0.0",
                  "0.0",
                  "0.0",
                  "0.0",
                  "102.0",
                  "254.0",
                  "220.0",
                  "0.0",
                  "0.0",
                  "0.0",
                  "0.0",
                  "0.0",
                  "0.0",
                  "0.0",
                  "0.0",
                  "0.0",
                  "0.0",
                  "0.0",
                  "0.0",
                  "0.0",
                  "0.0",
                  "0.0",
                  "0.0",
                  "0.0",
                  "0.0",
                  "0.0",
                  "0.0",
                  "0.0",
                  "0.0",
                  "0.0",
                  "0.0",
                  "0.0",
                  "169.0",
                  "254.0",
                  "137.0",
                  "0.0",
                  "0.0",
                  "0.0",
                  "0.0",
                  "0.0",
                  "0.0",
                  "0.0",
                  "0.0",
                  "0.0",
                  "0.0",
                  "0.0",
                  "0.0",
                  "0.0",
                  "0.0",
                  "0.0",
                  "0.0",
                  "0.0",
                  "0.0",
                  "0.0",
                  "0.0",
                  "0.0",
                  "0.0",
                  "0.0",
                  "0.0",
                  "0.0",
                  "169.0",
                  "254.0",
                  "57.0",
                  "0.0",
                  "0.0",
                  "0.0",
                  "0.0",
                  "0.0",
                  "0.0",
                  "0.0",
                  "0.0",
                  "0.0",
                  "0.0",
                  "0.0",
                  "0.0",
                  "0.0",
                  "0.0",
                  "0.0",
                  "0.0",
                  "0.0",
                  "0.0",
                  "0.0",
                  "0.0",
                  "0.0",
                  "0.0",
                  "0.0",
                  "0.0",
                  "0.0",
                  "169.0",
                  "254.0",
                  "57.0",
                  "0.0",
                  "0.0",
                  "0.0",
                  "0.0",
                  "0.0",
                  "0.0",
                  "0.0",
                  "0.0",
                  "0.0",
                  "0.0",
                  "0.0",
                  "0.0",
                  "0.0",
                  "0.0",
                  "0.0",
                  "0.0",
                  "0.0",
                  "0.0",
                  "0.0",
                  "0.0",
                  "0.0",
                  "0.0",
                  "0.0",
                  "0.0",
                  "0.0",
                  "169.0",
                  "255.0",
                  "94.0",
                  "0.0",
                  "0.0",
                  "0.0",
                  "0.0",
                  "0.0",
                  "0.0",
                  "0.0",
                  "0.0",
                  "0.0",
                  "0.0",
                  "0.0",
                  "0.0",
                  "0.0",
                  "0.0",
                  "0.0",
                  "0.0",
                  "0.0",
                  "0.0",
                  "0.0",
                  "0.0",
                  "0.0",
                  "0.0",
                  "0.0",
                  "0.0",
                  "0.0",
                  "169.0",
                  "254.0",
                  "96.0",
                  "0.0",
                  "0.0",
                  "0.0",
                  "0.0",
                  "0.0",
                  "0.0",
                  "0.0",
                  "0.0",
                  "0.0",
                  "0.0",
                  "0.0",
                  "0.0",
                  "0.0",
                  "0.0",
                  "0.0",
                  "0.0",
                  "0.0",
                  "0.0",
                  "0.0",
                  "0.0",
                  "0.0",
                  "0.0",
                  "0.0",
                  "0.0",
                  "0.0",
                  "169.0",
                  "254.0",
                  "153.0",
                  "0.0",
                  "0.0",
                  "0.0",
                  "0.0",
                  "0.0",
                  "0.0",
                  "0.0",
                  "0.0",
                  "0.0",
                  "0.0",
                  "0.0",
                  "0.0",
                  "0.0",
                  "0.0",
                  "0.0",
                  "0.0",
                  "0.0",
                  "0.0",
                  "0.0",
                  "0.0",
                  "0.0",
                  "0.0",
                  "0.0",
                  "0.0",
                  "0.0",
                  "169.0",
                  "255.0",
                  "153.0",
                  "0.0",
                  "0.0",
                  "0.0",
                  "0.0",
                  "0.0",
                  "0.0",
                  "0.0",
                  "0.0",
                  "0.0",
                  "0.0",
                  "0.0",
                  "0.0",
                  "0.0",
                  "0.0",
                  "0.0",
                  "0.0",
                  "0.0",
                  "0.0",
                  "0.0",
                  "0.0",
                  "0.0",
                  "0.0",
                  "0.0",
                  "0.0",
                  "0.0",
                  "96.0",
                  "254.0",
                  "153.0",
                  "0.0",
                  "0.0",
                  "0.0",
                  "0.0",
                  "0.0",
                  "0.0",
                  "0.0",
                  "0.0",
                  "0.0",
                  "0.0",
                  "0.0",
                  "0.0",
                  "0.0",
                  "0.0",
                  "0.0",
                  "0.0",
                  "0.0",
                  "0.0",
                  "0.0",
                  "0.0",
                  "0.0",
                  "0.0",
                  "0.0",
                  "0.0",
                  "0.0",
                  "0.0",
                  "0.0",
                  "0.0",
                  "0.0",
                  "0.0",
                  "0.0",
                  "0.0",
                  "0.0",
                  "0.0",
                  "0.0",
                  "0.0",
                  "0.0",
                  "0.0",
                  "0.0",
                  "0.0",
                  "0.0",
                  "0.0",
                  "0.0",
                  "0.0",
                  "0.0",
                  "0.0",
                  "0.0",
                  "0.0",
                  "0.0",
                  "0.0",
                  "0.0",
                  "0.0",
                  "0.0",
                  "0.0",
                  "0.0",
                  "0.0",
                  "0.0",
                  "0.0",
                  "0.0",
                  "0.0",
                  "0.0",
                  "0.0",
                  "0.0",
                  "0.0",
                  "0.0",
                  "0.0",
                  "0.0",
                  "0.0",
                  "0.0",
                  "0.0",
                  "0.0",
                  "0.0",
                  "0.0",
                  "0.0",
                  "0.0",
                  "0.0",
                  "0.0",
                  "0.0",
                  "0.0",
                  "0.0",
                  "0.0",
                  "0.0",
                  "0.0",
                  "0.0",
                  "0.0",
                  "0.0",
                  "0.0",
                  "0.0",
                  "0.0",
                  "0.0",
                  "0.0",
                  "0.0"
                ],
                [
                  "3",
                  "0.0",
                  "0.0",
                  "0.0",
                  "0.0",
                  "0.0",
                  "0.0",
                  "0.0",
                  "0.0",
                  "0.0",
                  "0.0",
                  "0.0",
                  "0.0",
                  "0.0",
                  "0.0",
                  "0.0",
                  "0.0",
                  "0.0",
                  "0.0",
                  "0.0",
                  "0.0",
                  "0.0",
                  "0.0",
                  "0.0",
                  "0.0",
                  "0.0",
                  "0.0",
                  "0.0",
                  "0.0",
                  "0.0",
                  "0.0",
                  "0.0",
                  "0.0",
                  "0.0",
                  "0.0",
                  "0.0",
                  "0.0",
                  "0.0",
                  "0.0",
                  "0.0",
                  "0.0",
                  "0.0",
                  "0.0",
                  "0.0",
                  "0.0",
                  "0.0",
                  "0.0",
                  "0.0",
                  "0.0",
                  "0.0",
                  "0.0",
                  "0.0",
                  "0.0",
                  "0.0",
                  "0.0",
                  "0.0",
                  "0.0",
                  "0.0",
                  "0.0",
                  "0.0",
                  "0.0",
                  "0.0",
                  "0.0",
                  "0.0",
                  "0.0",
                  "0.0",
                  "0.0",
                  "0.0",
                  "0.0",
                  "0.0",
                  "0.0",
                  "0.0",
                  "0.0",
                  "0.0",
                  "0.0",
                  "0.0",
                  "0.0",
                  "0.0",
                  "0.0",
                  "0.0",
                  "0.0",
                  "0.0",
                  "0.0",
                  "0.0",
                  "0.0",
                  "0.0",
                  "0.0",
                  "0.0",
                  "0.0",
                  "0.0",
                  "0.0",
                  "0.0",
                  "0.0",
                  "0.0",
                  "0.0",
                  "0.0",
                  "0.0",
                  "0.0",
                  "0.0",
                  "0.0",
                  "0.0",
                  "0.0",
                  "0.0",
                  "0.0",
                  "0.0",
                  "0.0",
                  "0.0",
                  "0.0",
                  "0.0",
                  "0.0",
                  "0.0",
                  "0.0",
                  "0.0",
                  "0.0",
                  "0.0",
                  "0.0",
                  "0.0",
                  "0.0",
                  "0.0",
                  "0.0",
                  "0.0",
                  "0.0",
                  "0.0",
                  "0.0",
                  "0.0",
                  "0.0",
                  "0.0",
                  "0.0",
                  "0.0",
                  "0.0",
                  "0.0",
                  "0.0",
                  "0.0",
                  "0.0",
                  "0.0",
                  "0.0",
                  "0.0",
                  "0.0",
                  "0.0",
                  "0.0",
                  "0.0",
                  "0.0",
                  "0.0",
                  "0.0",
                  "0.0",
                  "0.0",
                  "0.0",
                  "0.0",
                  "0.0",
                  "0.0",
                  "0.0",
                  "0.0",
                  "0.0",
                  "0.0",
                  "0.0",
                  "0.0",
                  "0.0",
                  "0.0",
                  "0.0",
                  "124.0",
                  "253.0",
                  "255.0",
                  "63.0",
                  "0.0",
                  "0.0",
                  "0.0",
                  "0.0",
                  "0.0",
                  "0.0",
                  "0.0",
                  "0.0",
                  "0.0",
                  "0.0",
                  "0.0",
                  "0.0",
                  "0.0",
                  "0.0",
                  "0.0",
                  "0.0",
                  "0.0",
                  "0.0",
                  "0.0",
                  "0.0",
                  "0.0",
                  "0.0",
                  "0.0",
                  "96.0",
                  "244.0",
                  "251.0",
                  "253.0",
                  "62.0",
                  "0.0",
                  "0.0",
                  "0.0",
                  "0.0",
                  "0.0",
                  "0.0",
                  "0.0",
                  "0.0",
                  "0.0",
                  "0.0",
                  "0.0",
                  "0.0",
                  "0.0",
                  "0.0",
                  "0.0",
                  "0.0",
                  "0.0",
                  "0.0",
                  "0.0",
                  "0.0",
                  "0.0",
                  "0.0",
                  "0.0",
                  "127.0",
                  "251.0",
                  "251.0",
                  "253.0",
                  "62.0",
                  "0.0",
                  "0.0",
                  "0.0",
                  "0.0",
                  "0.0",
                  "0.0",
                  "0.0",
                  "0.0",
                  "0.0",
                  "0.0",
                  "0.0",
                  "0.0",
                  "0.0",
                  "0.0",
                  "0.0",
                  "0.0",
                  "0.0",
                  "0.0",
                  "0.0",
                  "0.0",
                  "0.0",
                  "0.0",
                  "68.0",
                  "236.0",
                  "251.0",
                  "211.0",
                  "31.0",
                  "8.0",
                  "0.0",
                  "0.0",
                  "0.0",
                  "0.0",
                  "0.0",
                  "0.0",
                  "0.0",
                  "0.0",
                  "0.0",
                  "0.0",
                  "0.0",
                  "0.0",
                  "0.0",
                  "0.0",
                  "0.0",
                  "0.0",
                  "0.0",
                  "0.0",
                  "0.0",
                  "0.0",
                  "0.0",
                  "60.0",
                  "228.0",
                  "251.0",
                  "251.0",
                  "94.0",
                  "0.0",
                  "0.0",
                  "0.0",
                  "0.0",
                  "0.0",
                  "0.0",
                  "0.0",
                  "0.0",
                  "0.0",
                  "0.0",
                  "0.0",
                  "0.0",
                  "0.0",
                  "0.0",
                  "0.0",
                  "0.0",
                  "0.0",
                  "0.0",
                  "0.0",
                  "0.0",
                  "0.0",
                  "0.0",
                  "0.0",
                  "155.0",
                  "253.0",
                  "253.0",
                  "189.0",
                  "0.0",
                  "0.0",
                  "0.0",
                  "0.0",
                  "0.0",
                  "0.0",
                  "0.0",
                  "0.0",
                  "0.0",
                  "0.0",
                  "0.0",
                  "0.0",
                  "0.0",
                  "0.0",
                  "0.0",
                  "0.0",
                  "0.0",
                  "0.0",
                  "0.0",
                  "0.0",
                  "0.0",
                  "0.0",
                  "0.0",
                  "20.0",
                  "253.0",
                  "251.0",
                  "235.0",
                  "66.0",
                  "0.0",
                  "0.0",
                  "0.0",
                  "0.0",
                  "0.0",
                  "0.0",
                  "0.0",
                  "0.0",
                  "0.0",
                  "0.0",
                  "0.0",
                  "0.0",
                  "0.0",
                  "0.0",
                  "0.0",
                  "0.0",
                  "0.0",
                  "0.0",
                  "0.0",
                  "0.0",
                  "0.0",
                  "0.0",
                  "32.0",
                  "205.0",
                  "253.0",
                  "251.0",
                  "126.0",
                  "0.0",
                  "0.0",
                  "0.0",
                  "0.0",
                  "0.0",
                  "0.0",
                  "0.0",
                  "0.0",
                  "0.0",
                  "0.0",
                  "0.0",
                  "0.0",
                  "0.0",
                  "0.0",
                  "0.0",
                  "0.0",
                  "0.0",
                  "0.0",
                  "0.0",
                  "0.0",
                  "0.0",
                  "0.0",
                  "0.0",
                  "104.0",
                  "251.0",
                  "253.0",
                  "184.0",
                  "15.0",
                  "0.0",
                  "0.0",
                  "0.0",
                  "0.0",
                  "0.0",
                  "0.0",
                  "0.0",
                  "0.0",
                  "0.0",
                  "0.0",
                  "0.0",
                  "0.0",
                  "0.0",
                  "0.0",
                  "0.0",
                  "0.0",
                  "0.0",
                  "0.0",
                  "0.0",
                  "0.0",
                  "0.0",
                  "0.0",
                  "80.0",
                  "240.0",
                  "251.0",
                  "193.0",
                  "23.0",
                  "0.0",
                  "0.0",
                  "0.0",
                  "0.0",
                  "0.0",
                  "0.0",
                  "0.0",
                  "0.0",
                  "0.0",
                  "0.0",
                  "0.0",
                  "0.0",
                  "0.0",
                  "0.0",
                  "0.0",
                  "0.0",
                  "0.0",
                  "0.0",
                  "0.0",
                  "0.0",
                  "0.0",
                  "0.0",
                  "32.0",
                  "253.0",
                  "253.0",
                  "253.0",
                  "159.0",
                  "0.0",
                  "0.0",
                  "0.0",
                  "0.0",
                  "0.0",
                  "0.0",
                  "0.0",
                  "0.0",
                  "0.0",
                  "0.0",
                  "0.0",
                  "0.0",
                  "0.0",
                  "0.0",
                  "0.0",
                  "0.0",
                  "0.0",
                  "0.0",
                  "0.0",
                  "0.0",
                  "0.0",
                  "0.0",
                  "0.0",
                  "151.0",
                  "251.0",
                  "251.0",
                  "251.0",
                  "39.0",
                  "0.0",
                  "0.0",
                  "0.0",
                  "0.0",
                  "0.0",
                  "0.0",
                  "0.0",
                  "0.0",
                  "0.0",
                  "0.0",
                  "0.0",
                  "0.0",
                  "0.0",
                  "0.0",
                  "0.0",
                  "0.0",
                  "0.0",
                  "0.0",
                  "0.0",
                  "0.0",
                  "0.0",
                  "0.0",
                  "48.0",
                  "221.0",
                  "251.0",
                  "251.0",
                  "172.0",
                  "0.0",
                  "0.0",
                  "0.0",
                  "0.0",
                  "0.0",
                  "0.0",
                  "0.0",
                  "0.0",
                  "0.0",
                  "0.0",
                  "0.0",
                  "0.0",
                  "0.0",
                  "0.0",
                  "0.0",
                  "0.0",
                  "0.0",
                  "0.0",
                  "0.0",
                  "0.0",
                  "0.0",
                  "0.0",
                  "0.0",
                  "234.0",
                  "251.0",
                  "251.0",
                  "196.0",
                  "12.0",
                  "0.0",
                  "0.0",
                  "0.0",
                  "0.0",
                  "0.0",
                  "0.0",
                  "0.0",
                  "0.0",
                  "0.0",
                  "0.0",
                  "0.0",
                  "0.0",
                  "0.0",
                  "0.0",
                  "0.0",
                  "0.0",
                  "0.0",
                  "0.0",
                  "0.0",
                  "0.0",
                  "0.0",
                  "0.0",
                  "0.0",
                  "253.0",
                  "251.0",
                  "251.0",
                  "89.0",
                  "0.0",
                  "0.0",
                  "0.0",
                  "0.0",
                  "0.0",
                  "0.0",
                  "0.0",
                  "0.0",
                  "0.0",
                  "0.0",
                  "0.0",
                  "0.0",
                  "0.0",
                  "0.0",
                  "0.0",
                  "0.0",
                  "0.0",
                  "0.0",
                  "0.0",
                  "0.0",
                  "0.0",
                  "0.0",
                  "0.0",
                  "159.0",
                  "255.0",
                  "253.0",
                  "253.0",
                  "31.0",
                  "0.0",
                  "0.0",
                  "0.0",
                  "0.0",
                  "0.0",
                  "0.0",
                  "0.0",
                  "0.0",
                  "0.0",
                  "0.0",
                  "0.0",
                  "0.0",
                  "0.0",
                  "0.0",
                  "0.0",
                  "0.0",
                  "0.0",
                  "0.0",
                  "0.0",
                  "0.0",
                  "0.0",
                  "0.0",
                  "48.0",
                  "228.0",
                  "253.0",
                  "247.0",
                  "140.0",
                  "8.0",
                  "0.0",
                  "0.0",
                  "0.0",
                  "0.0",
                  "0.0",
                  "0.0",
                  "0.0",
                  "0.0",
                  "0.0",
                  "0.0",
                  "0.0",
                  "0.0",
                  "0.0",
                  "0.0",
                  "0.0",
                  "0.0",
                  "0.0",
                  "0.0",
                  "0.0",
                  "0.0",
                  "0.0",
                  "0.0",
                  "64.0",
                  "251.0",
                  "253.0",
                  "220.0",
                  "0.0",
                  "0.0",
                  "0.0",
                  "0.0",
                  "0.0",
                  "0.0",
                  "0.0",
                  "0.0",
                  "0.0",
                  "0.0",
                  "0.0",
                  "0.0",
                  "0.0",
                  "0.0",
                  "0.0",
                  "0.0",
                  "0.0",
                  "0.0",
                  "0.0",
                  "0.0",
                  "0.0",
                  "0.0",
                  "0.0",
                  "0.0",
                  "64.0",
                  "251.0",
                  "253.0",
                  "220.0",
                  "0.0",
                  "0.0",
                  "0.0",
                  "0.0",
                  "0.0",
                  "0.0",
                  "0.0",
                  "0.0",
                  "0.0",
                  "0.0",
                  "0.0",
                  "0.0",
                  "0.0",
                  "0.0",
                  "0.0",
                  "0.0",
                  "0.0",
                  "0.0",
                  "0.0",
                  "0.0",
                  "0.0",
                  "0.0",
                  "0.0",
                  "0.0",
                  "24.0",
                  "193.0",
                  "253.0",
                  "220.0",
                  "0.0",
                  "0.0",
                  "0.0",
                  "0.0",
                  "0.0",
                  "0.0",
                  "0.0",
                  "0.0",
                  "0.0",
                  "0.0",
                  "0.0",
                  "0.0",
                  "0.0",
                  "0.0",
                  "0.0",
                  "0.0",
                  "0.0",
                  "0.0",
                  "0.0",
                  "0.0",
                  "0.0",
                  "0.0",
                  "0.0",
                  "0.0",
                  "0.0",
                  "0.0",
                  "0.0",
                  "0.0",
                  "0.0",
                  "0.0",
                  "0.0",
                  "0.0",
                  "0.0",
                  "0.0",
                  "0.0",
                  "0.0",
                  "0.0",
                  "0.0",
                  "0.0",
                  "0.0",
                  "0.0",
                  "0.0",
                  "0.0",
                  "0.0",
                  "0.0",
                  "0.0",
                  "0.0",
                  "0.0",
                  "0.0",
                  "0.0",
                  "0.0",
                  "0.0",
                  "0.0",
                  "0.0",
                  "0.0",
                  "0.0",
                  "0.0",
                  "0.0",
                  "0.0",
                  "0.0",
                  "0.0",
                  "0.0",
                  "0.0",
                  "0.0",
                  "0.0",
                  "0.0",
                  "0.0",
                  "0.0",
                  "0.0",
                  "0.0",
                  "0.0",
                  "0.0",
                  "0.0",
                  "0.0",
                  "0.0",
                  "0.0",
                  "0.0",
                  "0.0",
                  "0.0",
                  "0.0",
                  "0.0",
                  "0.0",
                  "0.0",
                  "0.0",
                  "0.0",
                  "0.0",
                  "0.0",
                  "0.0",
                  "0.0",
                  "0.0",
                  "0.0",
                  "0.0",
                  "0.0",
                  "0.0",
                  "0.0",
                  "0.0",
                  "0.0",
                  "0.0",
                  "0.0",
                  "0.0"
                ],
                [
                  "4",
                  "0.0",
                  "0.0",
                  "0.0",
                  "0.0",
                  "0.0",
                  "0.0",
                  "0.0",
                  "0.0",
                  "0.0",
                  "0.0",
                  "0.0",
                  "0.0",
                  "0.0",
                  "0.0",
                  "0.0",
                  "0.0",
                  "0.0",
                  "0.0",
                  "0.0",
                  "0.0",
                  "0.0",
                  "0.0",
                  "0.0",
                  "0.0",
                  "0.0",
                  "0.0",
                  "0.0",
                  "0.0",
                  "0.0",
                  "0.0",
                  "0.0",
                  "0.0",
                  "0.0",
                  "0.0",
                  "0.0",
                  "0.0",
                  "0.0",
                  "0.0",
                  "0.0",
                  "0.0",
                  "0.0",
                  "0.0",
                  "0.0",
                  "0.0",
                  "0.0",
                  "0.0",
                  "0.0",
                  "0.0",
                  "0.0",
                  "0.0",
                  "0.0",
                  "0.0",
                  "0.0",
                  "0.0",
                  "0.0",
                  "0.0",
                  "0.0",
                  "0.0",
                  "0.0",
                  "0.0",
                  "0.0",
                  "0.0",
                  "0.0",
                  "0.0",
                  "0.0",
                  "0.0",
                  "0.0",
                  "0.0",
                  "0.0",
                  "0.0",
                  "0.0",
                  "0.0",
                  "0.0",
                  "0.0",
                  "0.0",
                  "0.0",
                  "0.0",
                  "0.0",
                  "0.0",
                  "0.0",
                  "0.0",
                  "0.0",
                  "0.0",
                  "0.0",
                  "0.0",
                  "0.0",
                  "0.0",
                  "0.0",
                  "0.0",
                  "0.0",
                  "0.0",
                  "0.0",
                  "0.0",
                  "0.0",
                  "0.0",
                  "0.0",
                  "0.0",
                  "0.0",
                  "0.0",
                  "0.0",
                  "0.0",
                  "0.0",
                  "0.0",
                  "0.0",
                  "0.0",
                  "0.0",
                  "0.0",
                  "0.0",
                  "0.0",
                  "0.0",
                  "0.0",
                  "0.0",
                  "0.0",
                  "0.0",
                  "0.0",
                  "0.0",
                  "0.0",
                  "0.0",
                  "0.0",
                  "0.0",
                  "0.0",
                  "0.0",
                  "0.0",
                  "0.0",
                  "0.0",
                  "0.0",
                  "0.0",
                  "0.0",
                  "0.0",
                  "0.0",
                  "0.0",
                  "0.0",
                  "0.0",
                  "0.0",
                  "0.0",
                  "0.0",
                  "0.0",
                  "0.0",
                  "0.0",
                  "0.0",
                  "0.0",
                  "0.0",
                  "0.0",
                  "0.0",
                  "0.0",
                  "0.0",
                  "0.0",
                  "0.0",
                  "0.0",
                  "0.0",
                  "0.0",
                  "0.0",
                  "0.0",
                  "0.0",
                  "0.0",
                  "0.0",
                  "0.0",
                  "0.0",
                  "0.0",
                  "0.0",
                  "0.0",
                  "0.0",
                  "0.0",
                  "0.0",
                  "0.0",
                  "0.0",
                  "0.0",
                  "0.0",
                  "0.0",
                  "0.0",
                  "0.0",
                  "0.0",
                  "0.0",
                  "0.0",
                  "0.0",
                  "0.0",
                  "0.0",
                  "0.0",
                  "0.0",
                  "0.0",
                  "0.0",
                  "0.0",
                  "0.0",
                  "0.0",
                  "0.0",
                  "0.0",
                  "0.0",
                  "0.0",
                  "0.0",
                  "0.0",
                  "0.0",
                  "0.0",
                  "0.0",
                  "0.0",
                  "0.0",
                  "0.0",
                  "0.0",
                  "0.0",
                  "0.0",
                  "0.0",
                  "0.0",
                  "0.0",
                  "0.0",
                  "0.0",
                  "0.0",
                  "0.0",
                  "0.0",
                  "0.0",
                  "55.0",
                  "148.0",
                  "210.0",
                  "253.0",
                  "253.0",
                  "113.0",
                  "87.0",
                  "148.0",
                  "55.0",
                  "0.0",
                  "0.0",
                  "0.0",
                  "0.0",
                  "0.0",
                  "0.0",
                  "0.0",
                  "0.0",
                  "0.0",
                  "0.0",
                  "0.0",
                  "0.0",
                  "0.0",
                  "0.0",
                  "0.0",
                  "0.0",
                  "0.0",
                  "0.0",
                  "87.0",
                  "232.0",
                  "252.0",
                  "253.0",
                  "189.0",
                  "210.0",
                  "252.0",
                  "252.0",
                  "253.0",
                  "168.0",
                  "0.0",
                  "0.0",
                  "0.0",
                  "0.0",
                  "0.0",
                  "0.0",
                  "0.0",
                  "0.0",
                  "0.0",
                  "0.0",
                  "0.0",
                  "0.0",
                  "0.0",
                  "0.0",
                  "0.0",
                  "0.0",
                  "4.0",
                  "57.0",
                  "242.0",
                  "252.0",
                  "190.0",
                  "65.0",
                  "5.0",
                  "12.0",
                  "182.0",
                  "252.0",
                  "253.0",
                  "116.0",
                  "0.0",
                  "0.0",
                  "0.0",
                  "0.0",
                  "0.0",
                  "0.0",
                  "0.0",
                  "0.0",
                  "0.0",
                  "0.0",
                  "0.0",
                  "0.0",
                  "0.0",
                  "0.0",
                  "0.0",
                  "0.0",
                  "96.0",
                  "252.0",
                  "252.0",
                  "183.0",
                  "14.0",
                  "0.0",
                  "0.0",
                  "92.0",
                  "252.0",
                  "252.0",
                  "225.0",
                  "21.0",
                  "0.0",
                  "0.0",
                  "0.0",
                  "0.0",
                  "0.0",
                  "0.0",
                  "0.0",
                  "0.0",
                  "0.0",
                  "0.0",
                  "0.0",
                  "0.0",
                  "0.0",
                  "0.0",
                  "0.0",
                  "132.0",
                  "253.0",
                  "252.0",
                  "146.0",
                  "14.0",
                  "0.0",
                  "0.0",
                  "0.0",
                  "215.0",
                  "252.0",
                  "252.0",
                  "79.0",
                  "0.0",
                  "0.0",
                  "0.0",
                  "0.0",
                  "0.0",
                  "0.0",
                  "0.0",
                  "0.0",
                  "0.0",
                  "0.0",
                  "0.0",
                  "0.0",
                  "0.0",
                  "0.0",
                  "0.0",
                  "126.0",
                  "253.0",
                  "247.0",
                  "176.0",
                  "9.0",
                  "0.0",
                  "0.0",
                  "8.0",
                  "78.0",
                  "245.0",
                  "253.0",
                  "129.0",
                  "0.0",
                  "0.0",
                  "0.0",
                  "0.0",
                  "0.0",
                  "0.0",
                  "0.0",
                  "0.0",
                  "0.0",
                  "0.0",
                  "0.0",
                  "0.0",
                  "0.0",
                  "0.0",
                  "0.0",
                  "16.0",
                  "232.0",
                  "252.0",
                  "176.0",
                  "0.0",
                  "0.0",
                  "0.0",
                  "36.0",
                  "201.0",
                  "252.0",
                  "252.0",
                  "169.0",
                  "11.0",
                  "0.0",
                  "0.0",
                  "0.0",
                  "0.0",
                  "0.0",
                  "0.0",
                  "0.0",
                  "0.0",
                  "0.0",
                  "0.0",
                  "0.0",
                  "0.0",
                  "0.0",
                  "0.0",
                  "0.0",
                  "22.0",
                  "252.0",
                  "252.0",
                  "30.0",
                  "22.0",
                  "119.0",
                  "197.0",
                  "241.0",
                  "253.0",
                  "252.0",
                  "251.0",
                  "77.0",
                  "0.0",
                  "0.0",
                  "0.0",
                  "0.0",
                  "0.0",
                  "0.0",
                  "0.0",
                  "0.0",
                  "0.0",
                  "0.0",
                  "0.0",
                  "0.0",
                  "0.0",
                  "0.0",
                  "0.0",
                  "0.0",
                  "16.0",
                  "231.0",
                  "252.0",
                  "253.0",
                  "252.0",
                  "252.0",
                  "252.0",
                  "226.0",
                  "227.0",
                  "252.0",
                  "231.0",
                  "0.0",
                  "0.0",
                  "0.0",
                  "0.0",
                  "0.0",
                  "0.0",
                  "0.0",
                  "0.0",
                  "0.0",
                  "0.0",
                  "0.0",
                  "0.0",
                  "0.0",
                  "0.0",
                  "0.0",
                  "0.0",
                  "0.0",
                  "0.0",
                  "55.0",
                  "235.0",
                  "253.0",
                  "217.0",
                  "138.0",
                  "42.0",
                  "24.0",
                  "192.0",
                  "252.0",
                  "143.0",
                  "0.0",
                  "0.0",
                  "0.0",
                  "0.0",
                  "0.0",
                  "0.0",
                  "0.0",
                  "0.0",
                  "0.0",
                  "0.0",
                  "0.0",
                  "0.0",
                  "0.0",
                  "0.0",
                  "0.0",
                  "0.0",
                  "0.0",
                  "0.0",
                  "0.0",
                  "0.0",
                  "0.0",
                  "0.0",
                  "0.0",
                  "0.0",
                  "62.0",
                  "255.0",
                  "253.0",
                  "109.0",
                  "0.0",
                  "0.0",
                  "0.0",
                  "0.0",
                  "0.0",
                  "0.0",
                  "0.0",
                  "0.0",
                  "0.0",
                  "0.0",
                  "0.0",
                  "0.0",
                  "0.0",
                  "0.0",
                  "0.0",
                  "0.0",
                  "0.0",
                  "0.0",
                  "0.0",
                  "0.0",
                  "0.0",
                  "0.0",
                  "0.0",
                  "0.0",
                  "71.0",
                  "253.0",
                  "252.0",
                  "21.0",
                  "0.0",
                  "0.0",
                  "0.0",
                  "0.0",
                  "0.0",
                  "0.0",
                  "0.0",
                  "0.0",
                  "0.0",
                  "0.0",
                  "0.0",
                  "0.0",
                  "0.0",
                  "0.0",
                  "0.0",
                  "0.0",
                  "0.0",
                  "0.0",
                  "0.0",
                  "0.0",
                  "0.0",
                  "0.0",
                  "0.0",
                  "0.0",
                  "0.0",
                  "253.0",
                  "252.0",
                  "21.0",
                  "0.0",
                  "0.0",
                  "0.0",
                  "0.0",
                  "0.0",
                  "0.0",
                  "0.0",
                  "0.0",
                  "0.0",
                  "0.0",
                  "0.0",
                  "0.0",
                  "0.0",
                  "0.0",
                  "0.0",
                  "0.0",
                  "0.0",
                  "0.0",
                  "0.0",
                  "0.0",
                  "0.0",
                  "0.0",
                  "0.0",
                  "0.0",
                  "71.0",
                  "253.0",
                  "252.0",
                  "21.0",
                  "0.0",
                  "0.0",
                  "0.0",
                  "0.0",
                  "0.0",
                  "0.0",
                  "0.0",
                  "0.0",
                  "0.0",
                  "0.0",
                  "0.0",
                  "0.0",
                  "0.0",
                  "0.0",
                  "0.0",
                  "0.0",
                  "0.0",
                  "0.0",
                  "0.0",
                  "0.0",
                  "0.0",
                  "0.0",
                  "0.0",
                  "0.0",
                  "106.0",
                  "253.0",
                  "252.0",
                  "21.0",
                  "0.0",
                  "0.0",
                  "0.0",
                  "0.0",
                  "0.0",
                  "0.0",
                  "0.0",
                  "0.0",
                  "0.0",
                  "0.0",
                  "0.0",
                  "0.0",
                  "0.0",
                  "0.0",
                  "0.0",
                  "0.0",
                  "0.0",
                  "0.0",
                  "0.0",
                  "0.0",
                  "0.0",
                  "0.0",
                  "0.0",
                  "0.0",
                  "45.0",
                  "255.0",
                  "253.0",
                  "21.0",
                  "0.0",
                  "0.0",
                  "0.0",
                  "0.0",
                  "0.0",
                  "0.0",
                  "0.0",
                  "0.0",
                  "0.0",
                  "0.0",
                  "0.0",
                  "0.0",
                  "0.0",
                  "0.0",
                  "0.0",
                  "0.0",
                  "0.0",
                  "0.0",
                  "0.0",
                  "0.0",
                  "0.0",
                  "0.0",
                  "0.0",
                  "0.0",
                  "0.0",
                  "218.0",
                  "252.0",
                  "56.0",
                  "0.0",
                  "0.0",
                  "0.0",
                  "0.0",
                  "0.0",
                  "0.0",
                  "0.0",
                  "0.0",
                  "0.0",
                  "0.0",
                  "0.0",
                  "0.0",
                  "0.0",
                  "0.0",
                  "0.0",
                  "0.0",
                  "0.0",
                  "0.0",
                  "0.0",
                  "0.0",
                  "0.0",
                  "0.0",
                  "0.0",
                  "0.0",
                  "0.0",
                  "96.0",
                  "252.0",
                  "189.0",
                  "42.0",
                  "0.0",
                  "0.0",
                  "0.0",
                  "0.0",
                  "0.0",
                  "0.0",
                  "0.0",
                  "0.0",
                  "0.0",
                  "0.0",
                  "0.0",
                  "0.0",
                  "0.0",
                  "0.0",
                  "0.0",
                  "0.0",
                  "0.0",
                  "0.0",
                  "0.0",
                  "0.0",
                  "0.0",
                  "0.0",
                  "0.0",
                  "0.0",
                  "14.0",
                  "184.0",
                  "252.0",
                  "170.0",
                  "11.0",
                  "0.0",
                  "0.0",
                  "0.0",
                  "0.0",
                  "0.0",
                  "0.0",
                  "0.0",
                  "0.0",
                  "0.0",
                  "0.0",
                  "0.0",
                  "0.0",
                  "0.0",
                  "0.0",
                  "0.0",
                  "0.0",
                  "0.0",
                  "0.0",
                  "0.0",
                  "0.0",
                  "0.0",
                  "0.0",
                  "0.0",
                  "0.0",
                  "14.0",
                  "147.0",
                  "252.0",
                  "42.0",
                  "0.0",
                  "0.0",
                  "0.0",
                  "0.0",
                  "0.0",
                  "0.0",
                  "0.0",
                  "0.0",
                  "0.0",
                  "0.0",
                  "0.0",
                  "0.0",
                  "0.0",
                  "0.0",
                  "0.0",
                  "0.0",
                  "0.0",
                  "0.0",
                  "0.0",
                  "0.0",
                  "0.0",
                  "0.0",
                  "0.0",
                  "0.0",
                  "0.0",
                  "0.0",
                  "0.0",
                  "0.0",
                  "0.0",
                  "0.0",
                  "0.0",
                  "0.0",
                  "0.0",
                  "0.0",
                  "0.0",
                  "0.0",
                  "0.0"
                ]
              ],
              "shape": {
                "columns": 784,
                "rows": 5
              }
            },
            "text/html": [
              "<div>\n",
              "<style scoped>\n",
              "    .dataframe tbody tr th:only-of-type {\n",
              "        vertical-align: middle;\n",
              "    }\n",
              "\n",
              "    .dataframe tbody tr th {\n",
              "        vertical-align: top;\n",
              "    }\n",
              "\n",
              "    .dataframe thead th {\n",
              "        text-align: right;\n",
              "    }\n",
              "</style>\n",
              "<table border=\"1\" class=\"dataframe\">\n",
              "  <thead>\n",
              "    <tr style=\"text-align: right;\">\n",
              "      <th></th>\n",
              "      <th>pixel1</th>\n",
              "      <th>pixel2</th>\n",
              "      <th>pixel3</th>\n",
              "      <th>pixel4</th>\n",
              "      <th>pixel5</th>\n",
              "      <th>pixel6</th>\n",
              "      <th>pixel7</th>\n",
              "      <th>pixel8</th>\n",
              "      <th>pixel9</th>\n",
              "      <th>pixel10</th>\n",
              "      <th>...</th>\n",
              "      <th>pixel775</th>\n",
              "      <th>pixel776</th>\n",
              "      <th>pixel777</th>\n",
              "      <th>pixel778</th>\n",
              "      <th>pixel779</th>\n",
              "      <th>pixel780</th>\n",
              "      <th>pixel781</th>\n",
              "      <th>pixel782</th>\n",
              "      <th>pixel783</th>\n",
              "      <th>pixel784</th>\n",
              "    </tr>\n",
              "  </thead>\n",
              "  <tbody>\n",
              "    <tr>\n",
              "      <th>0</th>\n",
              "      <td>0.0</td>\n",
              "      <td>0.0</td>\n",
              "      <td>0.0</td>\n",
              "      <td>0.0</td>\n",
              "      <td>0.0</td>\n",
              "      <td>0.0</td>\n",
              "      <td>0.0</td>\n",
              "      <td>0.0</td>\n",
              "      <td>0.0</td>\n",
              "      <td>0.0</td>\n",
              "      <td>...</td>\n",
              "      <td>0.0</td>\n",
              "      <td>0.0</td>\n",
              "      <td>0.0</td>\n",
              "      <td>0.0</td>\n",
              "      <td>0.0</td>\n",
              "      <td>0.0</td>\n",
              "      <td>0.0</td>\n",
              "      <td>0.0</td>\n",
              "      <td>0.0</td>\n",
              "      <td>0.0</td>\n",
              "    </tr>\n",
              "    <tr>\n",
              "      <th>1</th>\n",
              "      <td>0.0</td>\n",
              "      <td>0.0</td>\n",
              "      <td>0.0</td>\n",
              "      <td>0.0</td>\n",
              "      <td>0.0</td>\n",
              "      <td>0.0</td>\n",
              "      <td>0.0</td>\n",
              "      <td>0.0</td>\n",
              "      <td>0.0</td>\n",
              "      <td>0.0</td>\n",
              "      <td>...</td>\n",
              "      <td>0.0</td>\n",
              "      <td>0.0</td>\n",
              "      <td>0.0</td>\n",
              "      <td>0.0</td>\n",
              "      <td>0.0</td>\n",
              "      <td>0.0</td>\n",
              "      <td>0.0</td>\n",
              "      <td>0.0</td>\n",
              "      <td>0.0</td>\n",
              "      <td>0.0</td>\n",
              "    </tr>\n",
              "    <tr>\n",
              "      <th>2</th>\n",
              "      <td>0.0</td>\n",
              "      <td>0.0</td>\n",
              "      <td>0.0</td>\n",
              "      <td>0.0</td>\n",
              "      <td>0.0</td>\n",
              "      <td>0.0</td>\n",
              "      <td>0.0</td>\n",
              "      <td>0.0</td>\n",
              "      <td>0.0</td>\n",
              "      <td>0.0</td>\n",
              "      <td>...</td>\n",
              "      <td>0.0</td>\n",
              "      <td>0.0</td>\n",
              "      <td>0.0</td>\n",
              "      <td>0.0</td>\n",
              "      <td>0.0</td>\n",
              "      <td>0.0</td>\n",
              "      <td>0.0</td>\n",
              "      <td>0.0</td>\n",
              "      <td>0.0</td>\n",
              "      <td>0.0</td>\n",
              "    </tr>\n",
              "    <tr>\n",
              "      <th>3</th>\n",
              "      <td>0.0</td>\n",
              "      <td>0.0</td>\n",
              "      <td>0.0</td>\n",
              "      <td>0.0</td>\n",
              "      <td>0.0</td>\n",
              "      <td>0.0</td>\n",
              "      <td>0.0</td>\n",
              "      <td>0.0</td>\n",
              "      <td>0.0</td>\n",
              "      <td>0.0</td>\n",
              "      <td>...</td>\n",
              "      <td>0.0</td>\n",
              "      <td>0.0</td>\n",
              "      <td>0.0</td>\n",
              "      <td>0.0</td>\n",
              "      <td>0.0</td>\n",
              "      <td>0.0</td>\n",
              "      <td>0.0</td>\n",
              "      <td>0.0</td>\n",
              "      <td>0.0</td>\n",
              "      <td>0.0</td>\n",
              "    </tr>\n",
              "    <tr>\n",
              "      <th>4</th>\n",
              "      <td>0.0</td>\n",
              "      <td>0.0</td>\n",
              "      <td>0.0</td>\n",
              "      <td>0.0</td>\n",
              "      <td>0.0</td>\n",
              "      <td>0.0</td>\n",
              "      <td>0.0</td>\n",
              "      <td>0.0</td>\n",
              "      <td>0.0</td>\n",
              "      <td>0.0</td>\n",
              "      <td>...</td>\n",
              "      <td>0.0</td>\n",
              "      <td>0.0</td>\n",
              "      <td>0.0</td>\n",
              "      <td>0.0</td>\n",
              "      <td>0.0</td>\n",
              "      <td>0.0</td>\n",
              "      <td>0.0</td>\n",
              "      <td>0.0</td>\n",
              "      <td>0.0</td>\n",
              "      <td>0.0</td>\n",
              "    </tr>\n",
              "  </tbody>\n",
              "</table>\n",
              "<p>5 rows × 784 columns</p>\n",
              "</div>"
            ],
            "text/plain": [
              "   pixel1  pixel2  pixel3  pixel4  pixel5  pixel6  pixel7  pixel8  pixel9  \\\n",
              "0     0.0     0.0     0.0     0.0     0.0     0.0     0.0     0.0     0.0   \n",
              "1     0.0     0.0     0.0     0.0     0.0     0.0     0.0     0.0     0.0   \n",
              "2     0.0     0.0     0.0     0.0     0.0     0.0     0.0     0.0     0.0   \n",
              "3     0.0     0.0     0.0     0.0     0.0     0.0     0.0     0.0     0.0   \n",
              "4     0.0     0.0     0.0     0.0     0.0     0.0     0.0     0.0     0.0   \n",
              "\n",
              "   pixel10  ...  pixel775  pixel776  pixel777  pixel778  pixel779  pixel780  \\\n",
              "0      0.0  ...       0.0       0.0       0.0       0.0       0.0       0.0   \n",
              "1      0.0  ...       0.0       0.0       0.0       0.0       0.0       0.0   \n",
              "2      0.0  ...       0.0       0.0       0.0       0.0       0.0       0.0   \n",
              "3      0.0  ...       0.0       0.0       0.0       0.0       0.0       0.0   \n",
              "4      0.0  ...       0.0       0.0       0.0       0.0       0.0       0.0   \n",
              "\n",
              "   pixel781  pixel782  pixel783  pixel784  \n",
              "0       0.0       0.0       0.0       0.0  \n",
              "1       0.0       0.0       0.0       0.0  \n",
              "2       0.0       0.0       0.0       0.0  \n",
              "3       0.0       0.0       0.0       0.0  \n",
              "4       0.0       0.0       0.0       0.0  \n",
              "\n",
              "[5 rows x 784 columns]"
            ]
          },
          "execution_count": 5,
          "metadata": {},
          "output_type": "execute_result"
        }
      ],
      "source": [
        "X.head()"
      ]
    },
    {
      "cell_type": "code",
      "execution_count": 6,
      "metadata": {
        "id": "TPqTYfOVrQPn",
        "outputId": "20b9eaf4-b9a3-4868-c067-e387f981fc97"
      },
      "outputs": [
        {
          "data": {
            "text/plain": [
              "(70000,)"
            ]
          },
          "execution_count": 6,
          "metadata": {},
          "output_type": "execute_result"
        }
      ],
      "source": [
        "y.shape"
      ]
    },
    {
      "cell_type": "markdown",
      "metadata": {
        "id": "Xq8WVaQ0rQPn"
      },
      "source": [
        "We will graph an instance's feature vector. An instance here is an image of a digit stored as a row in the dataset."
      ]
    },
    {
      "cell_type": "code",
      "execution_count": 7,
      "metadata": {
        "id": "u6xi4ip5rQPp",
        "outputId": "42f74ead-304b-482c-f1fc-26c282e052e0"
      },
      "outputs": [
        {
          "data": {
            "image/png": "[encoded data removed]",
            "text/plain": [
              "<Figure size 640x480 with 1 Axes>"
            ]
          },
          "metadata": {},
          "output_type": "display_data"
        }
      ],
      "source": [
        "import matplotlib as mpl\n",
        "import matplotlib.pyplot as plt\n",
        "import pandas as pd\n",
        "import numpy as np\n",
        "\n",
        "INDEX = 0\n",
        "\n",
        "some_digit = np.array(X.iloc[INDEX])\n",
        "some_digit_image = some_digit.reshape(28,28)\n",
        "\n",
        "plt.imshow(some_digit_image,cmap=\"binary\")\n",
        "plt.axis('off')\n",
        "plt.show()"
      ]
    },
    {
      "cell_type": "code",
      "execution_count": 8,
      "metadata": {
        "id": "TTQdOswIrQPr"
      },
      "outputs": [],
      "source": [
        "y = y.astype(np.int8)"
      ]
    },
    {
      "cell_type": "code",
      "execution_count": 9,
      "metadata": {
        "id": "GvCOvoqLrQPs"
      },
      "outputs": [],
      "source": [
        "X_train, X_test, y_train, y_test = X[:60000], X[60000:], y[:60000], y[60000:]"
      ]
    },
    {
      "cell_type": "markdown",
      "metadata": {
        "id": "3uUhyk-WrQPs"
      },
      "source": [
        "## Binary Classifier"
      ]
    },
    {
      "cell_type": "code",
      "execution_count": 10,
      "metadata": {
        "id": "EKXIFoLxrQPt",
        "outputId": "d314d2c8-1f7e-492b-bf62-5b805bed6fa0"
      },
      "outputs": [
        {
          "name": "stdout",
          "output_type": "stream",
          "text": [
            "0         True\n",
            "1        False\n",
            "2        False\n",
            "3        False\n",
            "4        False\n",
            "         ...  \n",
            "59995    False\n",
            "59996    False\n",
            "59997     True\n",
            "59998    False\n",
            "59999    False\n",
            "Name: class, Length: 60000, dtype: bool\n"
          ]
        }
      ],
      "source": [
        "y_train_5 = (y_train == 5)\n",
        "y_test_5 = (y_test == 5)\n",
        "print(y_train_5)"
      ]
    },
    {
      "cell_type": "markdown",
      "metadata": {
        "id": "luiulc0-rQPt"
      },
      "source": [
        "### Stochastic Gradient Descent (SGD) Classifier\n",
        "\n",
        "- can handle extremely large datasets"
      ]
    },
    {
      "cell_type": "code",
      "execution_count": 11,
      "metadata": {
        "id": "hRmthx7drQPt",
        "outputId": "3dccdd98-5666-4145-a120-0354113b208b"
      },
      "outputs": [
        {
          "data": {
            "text/plain": [
              "SGDClassifier(random_state=42)"
            ]
          },
          "execution_count": 11,
          "metadata": {},
          "output_type": "execute_result"
        }
      ],
      "source": [
        "from sklearn.linear_model import SGDClassifier\n",
        "sgd_clf = SGDClassifier(random_state=42)\n",
        "sgd_clf.fit(X_train, y_train_5)"
      ]
    },
    {
      "cell_type": "code",
      "execution_count": 12,
      "metadata": {
        "id": "R6aWs9icrQPu",
        "outputId": "c49ffad4-ce3c-4a78-8093-da0c6961c70e"
      },
      "outputs": [
        {
          "name": "stderr",
          "output_type": "stream",
          "text": [
            "c:\\Users\\hursh\\miniconda3\\envs\\tf2\\lib\\site-packages\\sklearn\\base.py:450: UserWarning: X does not have valid feature names, but SGDClassifier was fitted with feature names\n",
            "  warnings.warn(\n"
          ]
        },
        {
          "data": {
            "text/plain": [
              "array([ True])"
            ]
          },
          "execution_count": 12,
          "metadata": {},
          "output_type": "execute_result"
        }
      ],
      "source": [
        "sgd_clf.predict([some_digit])"
      ]
    },
    {
      "cell_type": "markdown",
      "metadata": {
        "id": "THJ_ALdjrQPu"
      },
      "source": [
        "## Performance Measures\n",
        "\n",
        "### Cross Validation\n",
        "\n",
        "Same as done before, in chapter 2"
      ]
    },
    {
      "cell_type": "code",
      "execution_count": 13,
      "metadata": {
        "id": "OlLJjz4ArQPu"
      },
      "outputs": [],
      "source": [
        "y_train_pred_original = sgd_clf.predict(X_train)"
      ]
    },
    {
      "cell_type": "code",
      "execution_count": 14,
      "metadata": {
        "id": "HM9V_cg5rQPv"
      },
      "outputs": [],
      "source": [
        "from sklearn.model_selection import cross_val_predict\n",
        "\n",
        "# get a clean prediction in each iteration\n",
        "y_train_pred = cross_val_predict(sgd_clf, X_train, y_train_5, cv = 3)"
      ]
    },
    {
      "cell_type": "code",
      "execution_count": 15,
      "metadata": {
        "id": "PpyHvarRrQPv",
        "outputId": "54896b4d-bb4b-495a-ddf5-2e42753ab867"
      },
      "outputs": [
        {
          "name": "stdout",
          "output_type": "stream",
          "text": [
            "0.9669\n",
            "0.91625\n",
            "0.96785\n"
          ]
        }
      ],
      "source": [
        "# Implementation of Cross Validation\n",
        "\n",
        "from sklearn.model_selection import StratifiedKFold\n",
        "from sklearn.base import clone\n",
        "\n",
        "skfolds = StratifiedKFold(n_splits=3, random_state=42, shuffle=True)\n",
        "\n",
        "for train_index, test_index in skfolds.split(X_train, y_train_5):\n",
        "    # creates a new, untrained model using the same hyperparameters as the original\n",
        "    clone_clf = clone(sgd_clf)\n",
        "    X_train_folds = X_train.iloc[train_index]\n",
        "    y_train_folds = y_train_5.iloc[train_index]\n",
        "    X_test_folds = X_train.iloc[test_index]\n",
        "    y_test_folds = y_train_5.iloc[test_index]\n",
        "\n",
        "    clone_clf.fit(X_train_folds, y_train_folds)\n",
        "    y_pred = clone_clf.predict(X_test_folds)\n",
        "    n_correct = sum(y_pred == y_test_folds)\n",
        "    print(n_correct / len(y_pred))\n",
        "\n"
      ]
    },
    {
      "cell_type": "code",
      "execution_count": 16,
      "metadata": {
        "id": "bn-2qhmprQPv",
        "outputId": "503ccd5f-80f2-4e02-beae-912f8d73e295"
      },
      "outputs": [
        {
          "data": {
            "text/plain": [
              "array([[54579,     0],\n",
              "       [    0,  5421]], dtype=int64)"
            ]
          },
          "execution_count": 16,
          "metadata": {},
          "output_type": "execute_result"
        }
      ],
      "source": [
        "from sklearn.metrics import confusion_matrix\n",
        "y_train_perfect_predictions = y_train_5\n",
        "confusion_matrix(y_train_5, y_train_perfect_predictions)"
      ]
    },
    {
      "cell_type": "code",
      "execution_count": 17,
      "metadata": {
        "id": "ynsxnWnGrQPw"
      },
      "outputs": [],
      "source": [
        "from sklearn.metrics import precision_score, recall_score\n",
        "\n",
        "prec = precision_score(y_train_5, y_train_pred)"
      ]
    },
    {
      "cell_type": "code",
      "execution_count": 18,
      "metadata": {
        "id": "HYuyMturrQPw"
      },
      "outputs": [],
      "source": [
        "rec = recall_score(y_train_5, y_train_pred)"
      ]
    },
    {
      "cell_type": "code",
      "execution_count": 19,
      "metadata": {
        "id": "DlGtfZoYrQPw",
        "outputId": "7d04382f-8f7b-4d98-fd2b-12e4efebf703"
      },
      "outputs": [
        {
          "data": {
            "text/plain": [
              "0.7325171197343847"
            ]
          },
          "execution_count": 19,
          "metadata": {},
          "output_type": "execute_result"
        }
      ],
      "source": [
        "f1 = 2/(1/prec + 1/rec)\n",
        "f1"
      ]
    },
    {
      "cell_type": "code",
      "execution_count": 20,
      "metadata": {
        "id": "lJDGNoZRrQPw",
        "outputId": "35e37284-aaad-4425-bb87-8316cbcebce7"
      },
      "outputs": [
        {
          "data": {
            "text/plain": [
              "0.7325171197343846"
            ]
          },
          "execution_count": 20,
          "metadata": {},
          "output_type": "execute_result"
        }
      ],
      "source": [
        "from sklearn.metrics import f1_score\n",
        "\n",
        "f1_score(y_train_5,y_train_pred)"
      ]
    },
    {
      "cell_type": "markdown",
      "metadata": {},
      "source": [
        "\n",
        "## Precision & Recall\n",
        "\n",
        "**Precision** refers to \"How many times were you right about a Positive?\" This measures the *accuracy* of positive predictions. \n",
        "\n",
        "$$\n",
        "\\text{precision} = \\frac{TP}{TP + FP}\n",
        "$$\n",
        "\n",
        "**Recall** refers to \"How many positives could you recall correctly?\". Also refers to *sensitivity* or *True Positive Rate* (TPR).  Another way to think about recall is how well you are able to **DETECT** the positives? Are you able to detect all of them or are there a few misses?\n",
        "\n",
        "$$\n",
        "\\text{recall} = \\frac{TP}{TP + FN}\n",
        "$$\n",
        "\n",
        "> Why do we need both precision and recall? \n",
        ">\n",
        "> Think of it this way. If I correctly identified 10 positives, $TP = 10$. Say, I was very careful, so I didn't make any false positives, $FP = 0$ (e.g. never deem the innocent guilty even if it means you will have to let go of some criminals), so $FN \\neq 0$.\n",
        "> \n",
        "> This means our precision remains $100\\%$ (careful to ensure there are no $FP$) but our recall would reduce, since we are letting some criminals go ($FN \\neq 0$).\n",
        "\n",
        "- Need high precision when its important not to have any False positives (mark as safe. Like 'safe for children' videos or 'safe for eating' or 'safe from virus' to allow someone into your house)\n",
        "- Need high recall when its important to catch shoplifters, it will be more inconvenient but its more important to \"GET ALL THE POSITIVES RIGHT\", even when there are more false positives."
      ]
    },
    {
      "cell_type": "markdown",
      "metadata": {
        "id": "zIHgh7HjrQPx"
      },
      "source": [
        "### Precision-Recall Tradeoff"
      ]
    },
    {
      "cell_type": "markdown",
      "metadata": {
        "id": "f7RRJHv_rQPx"
      },
      "source": [
        "Stochastic Gradient Descent has a decision function that gives a score to an X value. Based on a threshold, it classifies as positive or negative.\n",
        "\n",
        "`sklearn` doesn't let us set the threshold value. But we have access to the decision score to make predictions. We can call the `decision_function()`"
      ]
    },
    {
      "cell_type": "code",
      "execution_count": 21,
      "metadata": {
        "id": "GZkNb9a3rQPx",
        "outputId": "145b6ee2-e68b-4557-ccb8-90361de67636"
      },
      "outputs": [
        {
          "name": "stderr",
          "output_type": "stream",
          "text": [
            "c:\\Users\\hursh\\miniconda3\\envs\\tf2\\lib\\site-packages\\sklearn\\base.py:450: UserWarning: X does not have valid feature names, but SGDClassifier was fitted with feature names\n",
            "  warnings.warn(\n"
          ]
        },
        {
          "data": {
            "text/plain": [
              "array([2164.22030239])"
            ]
          },
          "execution_count": 21,
          "metadata": {},
          "output_type": "execute_result"
        }
      ],
      "source": [
        "sgd_clf.decision_function([some_digit])"
      ]
    },
    {
      "cell_type": "markdown",
      "metadata": {
        "id": "AzANoR3jrQPx"
      },
      "source": [
        "How to decide which threshold to use?"
      ]
    },
    {
      "cell_type": "code",
      "execution_count": 22,
      "metadata": {
        "id": "6-xa5wVLrQPx"
      },
      "outputs": [],
      "source": [
        "y_scores = cross_val_predict(sgd_clf, X_train, y_train_5, cv=3, method=\"decision_function\")"
      ]
    },
    {
      "cell_type": "code",
      "execution_count": 23,
      "metadata": {
        "id": "w_t73DVWrQPy"
      },
      "outputs": [],
      "source": [
        "from sklearn.metrics import precision_recall_curve\n",
        "\n",
        "precisions, recalls, thresholds = precision_recall_curve(y_train_5, y_scores)"
      ]
    },
    {
      "cell_type": "code",
      "execution_count": 24,
      "metadata": {
        "id": "aVPzbnTtrQPy",
        "outputId": "b9756b06-38e7-45cd-db04-10b5955a7408"
      },
      "outputs": [
        {
          "data": {
            "text/plain": [
              "array([-106527.45300471, -105763.22240074, -105406.2965229 , ...,\n",
              "         38871.26391927,   42216.05562787,   49441.43765905])"
            ]
          },
          "execution_count": 24,
          "metadata": {},
          "output_type": "execute_result"
        }
      ],
      "source": [
        "thresholds"
      ]
    },
    {
      "cell_type": "code",
      "execution_count": 25,
      "metadata": {
        "id": "4Bw7O0uPrQPy",
        "outputId": "80225c05-fa71-4c89-9507-ed516794a86e"
      },
      "outputs": [
        {
          "data": {
            "image/png": "[encoded data removed]",
            "text/plain": [
              "<Figure size 800x400 with 1 Axes>"
            ]
          },
          "metadata": {},
          "output_type": "display_data"
        }
      ],
      "source": [
        "\n",
        "def plot_precision_recall_vs_threshold(precisions, recalls, thresholds):\n",
        "    plt.plot(thresholds, precisions[:-1], \"b--\", label=\"Precision\")\n",
        "    plt.plot(thresholds, recalls[:-1], \"g-\", label=\"Recall\")\n",
        "    plt.legend(loc=\"center right\", fontsize=16)\n",
        "    plt.xlabel(\"Threshold\", fontsize=16)\n",
        "    plt.grid(True)\n",
        "    plt.axis([-50000, 50000, 0, 1])\n",
        "\n",
        "plt.figure(figsize=(8,4))\n",
        "plot_precision_recall_vs_threshold(precisions, recalls, thresholds)\n",
        "recall_90_precision = recalls[np.argmax(precisions > 0.9)]\n",
        "thresholds_90_precision = thresholds[np.argmax(precisions > 0.9)]\n",
        "plt.plot([-50000, thresholds_90_precision],[0.9, 0.9], 'r:')\n",
        "plt.plot([thresholds_90_precision, thresholds_90_precision],[0.9,0.], 'r:')\n",
        "plt.plot([-50000, thresholds_90_precision],[recall_90_precision,recall_90_precision], 'r:')\n",
        "plt.plot([thresholds_90_precision],[0.9],'ro')\n",
        "plt.plot([thresholds_90_precision],[recall_90_precision],'ro')\n",
        "plt.show()"
      ]
    },
    {
      "cell_type": "code",
      "execution_count": 26,
      "metadata": {
        "id": "26TSVJrHrQPy",
        "outputId": "d37f7ac2-73e9-4add-f9b8-e49924ab0805"
      },
      "outputs": [
        {
          "name": "stdout",
          "output_type": "stream",
          "text": [
            "0.9000345901072293\n",
            "0.4799852425751706\n"
          ]
        }
      ],
      "source": [
        "y_train_pred_90 = (y_scores >= thresholds_90_precision)\n",
        "print(precision_score(y_train_5, y_train_pred_90))\n",
        "print(recall_score(y_train_5, y_train_pred_90))"
      ]
    },
    {
      "cell_type": "markdown",
      "metadata": {
        "id": "2joeTMrQrQPz"
      },
      "source": [
        "## The ROC Curve"
      ]
    },
    {
      "cell_type": "markdown",
      "metadata": {
        "id": "Y_FdX5bRrQPz"
      },
      "source": [
        "> Receiver Operating Characteristic"
      ]
    },
    {
      "cell_type": "markdown",
      "metadata": {
        "id": "qr-e87NmrQPz"
      },
      "source": [
        "Ratio of Positive instances correctly classified (as positive)\n",
        "$$\n",
        "\\text{Recall/Sensitivity} = TPR = \\dfrac{TP}{TP + FN} = \\dfrac{TP}{\\text{Total Actual Positives}}\n",
        "$$\n",
        "Ratio of Negative instances, incorrectly classified (as positive)\n",
        "$$\n",
        "FPR = \\dfrac{FP}{TN + FP} = \\dfrac{FP}{\\text{Total Actual Negatives}}\n",
        "$$\n",
        "Ratio of Negative instances, correctly classified (as negative)\n",
        "$$\n",
        "\\text{Specificity} = TNR = \\dfrac{TN}{TN + FP} = \\dfrac{TN}{\\text{Total Actual Negatives}}\n",
        "$$"
      ]
    },
    {
      "cell_type": "markdown",
      "metadata": {},
      "source": [
        "\n",
        "> How to decide between ROC and PR?\n",
        "> \n",
        "> If positive class is rare or when we care more about false positives than false negatives (e.g. Is a claim fradulent? Positive = fraudulant. In this case we will choose PR because both FP and FN are costly, but the primary concern is the class imbalance. Positive class is rare and *thus* we choose PR curves.)\n",
        "\n",
        "Receiver Operating Characteristic - Area under the Curve (ROC AUC) is a metric used to compare different classifiers.\n",
        "- Purely random: AUC = 0.5\n",
        "- Perfect Classifier: AUC = 1.0\n",
        "\n",
        "> `sklearn` classifiers generally have one or the other\n",
        "> - `decision_function()`\n",
        "> - `predict_proba()`"
      ]
    },
    {
      "cell_type": "code",
      "execution_count": 27,
      "metadata": {
        "id": "VwF00WzWrQP0"
      },
      "outputs": [],
      "source": [
        "# ROC Curve plots sensitivity (recall) vs 1- specificity\n",
        "from sklearn.metrics import roc_curve\n",
        "\n",
        "fpr, tpr, thresholds = roc_curve(y_train_5, y_scores)"
      ]
    },
    {
      "cell_type": "code",
      "execution_count": 28,
      "metadata": {
        "id": "WWSAjpimrQP0",
        "outputId": "aafa383a-f0bb-480a-fc1f-3565da2ce7d6"
      },
      "outputs": [
        {
          "data": {
            "image/png": "[encoded data removed]",
            "text/plain": [
              "<Figure size 800x600 with 1 Axes>"
            ]
          },
          "metadata": {},
          "output_type": "display_data"
        }
      ],
      "source": [
        "def plot_roc_curve(fpr, tpr, label = None):\n",
        "    plt.plot(fpr, tpr, linewidth =2, label=label)\n",
        "    plt.plot([0,1],[0,1], 'k--')\n",
        "    plt.xlabel(\"False Positive Rate\", fontsize=16)\n",
        "    plt.ylabel(\"True Positive Rate (Recall)\", fontsize=16)\n",
        "    plt.axis([0,1,0,1])\n",
        "    plt.grid(True)\n",
        "\n",
        "# we select the fpr with 90% Precision\n",
        "plt.figure(figsize=(8,6))\n",
        "fpr_90_precision = fpr[np.argmax(tpr >= recall_90_precision)]\n",
        "plot_roc_curve(fpr, tpr)\n",
        "plt.plot([fpr_90_precision,fpr_90_precision],[0, recall_90_precision],'r:')\n",
        "plt.plot([fpr_90_precision],[recall_90_precision],'ro')\n",
        "plt.show()"
      ]
    },
    {
      "cell_type": "markdown",
      "metadata": {
        "id": "-V30fy--rQP0"
      },
      "source": [
        "Both the ROC and the Precision-Recall curve give multiple values of fpr, tpr, precision, recall values at different threshold levels. So that we can plot them\n",
        "\n",
        "The tradeoff in ROC is that the higher the recall (TPR), the higher the FPR.\n",
        "\n",
        "A purely random classifier is represented by that dotted line"
      ]
    },
    {
      "cell_type": "code",
      "execution_count": 29,
      "metadata": {
        "id": "0xvL8-YUrQP8",
        "outputId": "eea3130d-3c91-4059-b536-51256b88a1e4"
      },
      "outputs": [
        {
          "data": {
            "text/plain": [
              "0.9604938554008616"
            ]
          },
          "execution_count": 29,
          "metadata": {},
          "output_type": "execute_result"
        }
      ],
      "source": [
        "from sklearn.metrics import roc_auc_score\n",
        "roc_auc_score(y_train_5, y_scores)"
      ]
    },
    {
      "cell_type": "markdown",
      "metadata": {
        "id": "LMnpy1azrQP8"
      },
      "source": [
        "> How to decide between ROC and PR?\n",
        ">\n",
        "> If positive class is rare or when we care more about false positives than false negatives (e.g. Is a claim fradulent? Positive = fraudulant. In this case we will choose PR because both FP and FN are costly, but the primary concern is the class imbalance. Positive class is rare and *thus* we choose PR curves.)\n",
        "\n",
        "\n",
        "Receiver Operating Characteristic - Area under the Curve (ROC AUC) is a metric used to compare different classifiers.\n",
        "\n",
        "Purely random: AUC = 0.5\n",
        "\n",
        "Perfect Classifier: AUC = 1.0"
      ]
    },
    {
      "cell_type": "markdown",
      "metadata": {
        "id": "CVnUmopErQP9"
      },
      "source": [
        "> `sklearn` classifiers generally have one or the other\n",
        "> - `decision_function()`\n",
        "> - `predict_proba()`"
      ]
    },
    {
      "cell_type": "code",
      "execution_count": 30,
      "metadata": {
        "id": "t2VViUr8rQP9"
      },
      "outputs": [],
      "source": [
        "from sklearn.ensemble import RandomForestClassifier\n",
        "\n",
        "forest_clf = RandomForestClassifier(random_state=42)\n",
        "y_probas_forest = cross_val_predict(forest_clf, X_train, y_train_5, cv=3, method='predict_proba')"
      ]
    },
    {
      "cell_type": "code",
      "execution_count": 31,
      "metadata": {
        "id": "VKgx2X1crQP9",
        "outputId": "b8b9f9cf-5e50-47bf-d3b0-384004c88a79"
      },
      "outputs": [
        {
          "data": {
            "text/plain": [
              "array([0.89, 0.01, 0.04, ..., 0.98, 0.08, 0.06])"
            ]
          },
          "execution_count": 31,
          "metadata": {},
          "output_type": "execute_result"
        }
      ],
      "source": [
        "y_scores_forest = y_probas_forest[:, 1]\n",
        "y_scores_forest"
      ]
    },
    {
      "cell_type": "code",
      "execution_count": 32,
      "metadata": {
        "id": "Mnw2voetrQP9"
      },
      "outputs": [],
      "source": [
        "fpr_forest, tpr_forest, thresholds_forest = roc_curve(y_train_5, y_scores_forest)"
      ]
    },
    {
      "cell_type": "code",
      "execution_count": 35,
      "metadata": {
        "id": "A9dD4yAfrQP-",
        "outputId": "10f7e4b4-21b1-4f03-862e-6af4f738f741"
      },
      "outputs": [
        {
          "data": {
            "image/png": "[encoded data removed]",
            "text/plain": [
              "<Figure size 640x480 with 1 Axes>"
            ]
          },
          "metadata": {},
          "output_type": "display_data"
        }
      ],
      "source": [
        "recall_90_precision_forest = tpr_forest[np.argmax(fpr_forest >= fpr_forest)]\n",
        "plt.plot(fpr, tpr, 'b:', label=\"SGD\")\n",
        "plot_roc_curve(fpr_forest, tpr_forest, label=\"Random Forest\")\n",
        "plt.legend(loc=\"lower right\")\n",
        "plt.show()"
      ]
    },
    {
      "cell_type": "code",
      "execution_count": 36,
      "metadata": {
        "id": "RZYRvRLkrQP-",
        "outputId": "7c7bfdcb-050c-47e1-b20a-838dc5220c53"
      },
      "outputs": [
        {
          "data": {
            "text/plain": [
              "0.9983436731328145"
            ]
          },
          "execution_count": 36,
          "metadata": {},
          "output_type": "execute_result"
        }
      ],
      "source": [
        "roc_auc_score(y_train_5, y_scores_forest)"
      ]
    },
    {
      "cell_type": "code",
      "execution_count": 37,
      "metadata": {
        "id": "nO7URI8lrQP-",
        "outputId": "5701700a-6e4c-4114-8f6e-c13e2b9ed4b3"
      },
      "outputs": [
        {
          "name": "stdout",
          "output_type": "stream",
          "text": [
            "0.9905083315756169\n",
            "0.8662608374838591\n"
          ]
        }
      ],
      "source": [
        "y_pred_forest = cross_val_predict(forest_clf, X_train, y_train_5, cv=3)\n",
        "print(precision_score(y_train_5,y_pred_forest))\n",
        "print(recall_score(y_train_5, y_pred_forest))"
      ]
    },
    {
      "cell_type": "markdown",
      "metadata": {
        "id": "3MUJFIexrQP-"
      },
      "source": [
        "Just lost 4 hours of work because I refreshed the Colab notebook :/"
      ]
    },
    {
      "cell_type": "code",
      "execution_count": 38,
      "metadata": {
        "id": "Thg0aCIfuPTJ"
      },
      "outputs": [],
      "source": [
        "from sklearn.preprocessing import StandardScaler\n",
        "\n",
        "scalar = StandardScaler()\n",
        "X_train_scaled = scalar.fit_transform(X_train.astype(np.float64))"
      ]
    },
    {
      "cell_type": "code",
      "execution_count": 39,
      "metadata": {
        "id": "N3OEhQeysdgA"
      },
      "outputs": [],
      "source": [
        "from sklearn.model_selection import cross_val_predict\n",
        "from sklearn.metrics import confusion_matrix\n",
        "from sklearn.linear_model import SGDClassifier\n",
        "sgd_clf = SGDClassifier(random_state=42)\n",
        "y_train_pred = cross_val_predict(sgd_clf, X_train_scaled, y_train, cv=3)"
      ]
    },
    {
      "cell_type": "code",
      "execution_count": 40,
      "metadata": {
        "id": "60ZjwaEuvrvk"
      },
      "outputs": [
        {
          "data": {
            "text/plain": [
              "array([[5577,    0,   22,    5,    8,   43,   36,    6,  225,    1],\n",
              "       [   0, 6400,   37,   24,    4,   44,    4,    7,  212,   10],\n",
              "       [  27,   27, 5220,   92,   73,   27,   67,   36,  378,   11],\n",
              "       [  22,   17,  117, 5227,    2,  203,   27,   40,  403,   73],\n",
              "       [  12,   14,   41,    9, 5182,   12,   34,   27,  347,  164],\n",
              "       [  27,   15,   30,  168,   53, 4444,   75,   14,  535,   60],\n",
              "       [  30,   15,   42,    3,   44,   97, 5552,    3,  131,    1],\n",
              "       [  21,   10,   51,   30,   49,   12,    3, 5684,  195,  210],\n",
              "       [  17,   63,   48,   86,    3,  126,   25,   10, 5429,   44],\n",
              "       [  25,   18,   30,   64,  118,   36,    1,  179,  371, 5107]],\n",
              "      dtype=int64)"
            ]
          },
          "execution_count": 40,
          "metadata": {},
          "output_type": "execute_result"
        }
      ],
      "source": [
        "conf_mx = confusion_matrix(y_train, y_train_pred)\n",
        "conf_mx"
      ]
    },
    {
      "cell_type": "code",
      "execution_count": 41,
      "metadata": {
        "id": "ivITe5HAuJlT"
      },
      "outputs": [
        {
          "data": {
            "image/png": "[encoded data removed]",
            "text/plain": [
              "<Figure size 480x480 with 1 Axes>"
            ]
          },
          "metadata": {},
          "output_type": "display_data"
        }
      ],
      "source": [
        "plt.matshow(conf_mx, cmap=plt.cm.gray)\n",
        "plt.show()"
      ]
    },
    {
      "cell_type": "code",
      "execution_count": 42,
      "metadata": {
        "id": "yXqaURXevlMv"
      },
      "outputs": [],
      "source": [
        "row_sums = conf_mx.sum(axis=1, keepdims=True)\n",
        "norm_conf_mx = conf_mx / row_sums"
      ]
    },
    {
      "cell_type": "code",
      "execution_count": 43,
      "metadata": {
        "id": "cfb3a_TKwThR"
      },
      "outputs": [
        {
          "data": {
            "image/png": "[encoded data removed]",
            "text/plain": [
              "<Figure size 480x480 with 1 Axes>"
            ]
          },
          "metadata": {},
          "output_type": "display_data"
        }
      ],
      "source": [
        "np.fill_diagonal(norm_conf_mx, 0)\n",
        "plt.matshow(norm_conf_mx, cmap=plt.cm.gray)\n",
        "plt.show()"
      ]
    },
    {
      "cell_type": "markdown",
      "metadata": {},
      "source": [
        "\n",
        "## Multivariate Classification\n",
        "\n",
        "There are multiple types of classifiers:\n",
        "- SGD\n",
        "- Random Forest Classifier\n",
        "- Naive Bayes\n",
        "\n",
        "These have native support for multiple classes. But there are others that don't like\n",
        "- Support Vector Machine Classifiers (SVCs)\n",
        "- Logistic Regressions\n",
        "\n",
        "They are strictly binary in nature. However, we can use alternate strategies like `OvR` (One vs Rest) and `OvO` (One vs One) strategy in order to use these models for multivariate classification. Say, we have $N$ classes (each having $\\frac{1}{N}$ portion in the data)\n",
        "- `OvR` fits $N$ binary models. Each model checking for one (positive) and the rest (negative). So, on each model we have to fit 100% of the data.\n",
        "- `OvO` fits $\\dbinom{N}{2}$ binary models, $(0,1), (0,2)\\dots(1,2),(1,3)\\dots$ i.e. pairs of each class against others. Thus each model we have to fit contains only 20% of the data. But the number of models to be fit would be huge (e.g. 10 classes will require 45 models to be fit). So, this can be utilized by models that don't scale well with data. E.g. `SVC`s.\n",
        "\n",
        "### Variations\n",
        "\n",
        "- **Multiclass** can have multiple classes (e.g. 0,1,2,3...) for the singular label that is being predicted.\n",
        "- **Multilabel**  can have multiple labels (each having a binary class)\n",
        "- **Multioutput** is a generalization of multilabel where there are multiple labels and each label can have multiple classes.\n",
        "\n",
        "In essence, every model is just a specification of a multioutput model.\n",
        "$$\n",
        "\\text{Multilabel} + \\text{Multiclass} = \\text{Multioutput} \n",
        "$$\n",
        "\n",
        "> The author shows an insane example for **multioutput** where he trains a model to remove the noise from a noisy digit using the `knn` classifier.\n"
      ]
    },
    {
      "cell_type": "markdown",
      "metadata": {},
      "source": [
        "## Multilabel classification"
      ]
    },
    {
      "cell_type": "code",
      "execution_count": 44,
      "metadata": {},
      "outputs": [
        {
          "data": {
            "text/plain": [
              "KNeighborsClassifier()"
            ]
          },
          "execution_count": 44,
          "metadata": {},
          "output_type": "execute_result"
        }
      ],
      "source": [
        "from sklearn.neighbors import KNeighborsClassifier\n",
        "\n",
        "y_train_large = (y_train >= 7)\n",
        "y_train_odd = (y_train % 2 == 1)\n",
        "y_multilabel = np.c_[y_train_large, y_train_odd]\n",
        "\n",
        "knn_clf = KNeighborsClassifier()\n",
        "knn_clf.fit(X_train, y_multilabel)"
      ]
    },
    {
      "cell_type": "code",
      "execution_count": null,
      "metadata": {},
      "outputs": [],
      "source": [
        "knn_clf.predict([some_digit])"
      ]
    },
    {
      "cell_type": "code",
      "execution_count": 46,
      "metadata": {},
      "outputs": [],
      "source": [
        "y_train_knn_pred = cross_val_predict(knn_clf, X_train, y_multilabel, cv=3)"
      ]
    },
    {
      "cell_type": "markdown",
      "metadata": {},
      "source": [
        "\n",
        "### $F_{1}$ score\n",
        "\n",
        "This is the harmonic mean of the precision and recall and gives more value to lower values. So, we get a higher $F_{1}$ score only when both precision and recall are higher\n",
        "$$\n",
        "F_{1} = \\dfrac{2}{\\dfrac{1}{\\text{Precision}} + \\dfrac{1}{\\text{Recall}}}\n",
        "$$\n",
        "### Confusion Matrix\n",
        "\n",
        "The confusion matrix gives a good idea about the accuracy of binary classifiers\n"
      ]
    },
    {
      "cell_type": "code",
      "execution_count": 47,
      "metadata": {},
      "outputs": [
        {
          "data": {
            "text/plain": [
              "array([[54579,     0],\n",
              "       [    0,  5421]], dtype=int64)"
            ]
          },
          "execution_count": 47,
          "metadata": {},
          "output_type": "execute_result"
        }
      ],
      "source": [
        "\n",
        "from sklearn.metrics import confusion_matrix\n",
        "y_train_perfect_predictions = y_train_5\n",
        "confusion_matrix(y_train_5, y_train_perfect_predictions)"
      ]
    },
    {
      "cell_type": "markdown",
      "metadata": {},
      "source": [
        "\n",
        "Each row represents actual class (Positive / Negative). Each column represents predicted class (+ / -)"
      ]
    },
    {
      "cell_type": "code",
      "execution_count": 48,
      "metadata": {},
      "outputs": [
        {
          "data": {
            "text/plain": [
              "0.976410265560605"
            ]
          },
          "execution_count": 48,
          "metadata": {},
          "output_type": "execute_result"
        }
      ],
      "source": [
        "from sklearn.metrics import f1_score\n",
        "\n",
        "f1_score(y_multilabel, y_train_knn_pred, average='macro')"
      ]
    },
    {
      "cell_type": "markdown",
      "metadata": {},
      "source": [
        "## Multioutput Classification"
      ]
    },
    {
      "cell_type": "markdown",
      "metadata": {},
      "source": [
        "Each label can be multiclass, each can have more than two possible values. In other words\n",
        "\n",
        "$$\n",
        "\\text{Multilabel} + \\text{Multiclass} = \\text{Multioutput} \n",
        "$$"
      ]
    }
  ],
  "metadata": {
    "colab": {
      "provenance": []
    },
    "kernelspec": {
      "display_name": "tf2",
      "language": "python",
      "name": "python3"
    },
    "language_info": {
      "codemirror_mode": {
        "name": "ipython",
        "version": 3
      },
      "file_extension": ".py",
      "mimetype": "text/x-python",
      "name": "python",
      "nbconvert_exporter": "python",
      "pygments_lexer": "ipython3",
      "version": "3.8.19"
    }
  },
  "nbformat": 4,
  "nbformat_minor": 0
}
